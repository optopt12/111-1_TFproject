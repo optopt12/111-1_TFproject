{
 "cells": [
  {
   "cell_type": "code",
   "execution_count": 2,
   "metadata": {},
   "outputs": [],
   "source": [
    "import tensorflow as tf\n",
    "import numpy as np\n",
    "from tensorflow import keras\n",
    "from tensorflow.keras import layers\n",
    "from tensorflow.keras.utils import plot_model\n",
    "from IPython.display import Image"
   ]
  },
  {
   "cell_type": "code",
   "execution_count": 3,
   "metadata": {},
   "outputs": [
    {
     "name": "stdout",
     "output_type": "stream",
     "text": [
      "tf.Tensor(4, shape=(), dtype=int32)\n",
      "0\n",
      "tf.Tensor([1 2 3 4 5 6], shape=(6,), dtype=int32)\n",
      "tf.Tensor(\n",
      "[[1 2 3]\n",
      " [4 5 6]], shape=(2, 3), dtype=int32)\n"
     ]
    }
   ],
   "source": [
    "c=tf.constant(1)    #常數\n",
    "v = tf.Variable(1)  #變數\n",
    "\n",
    "x = tf.constant(4)\n",
    "print(x)  # 顯示Tensor 常數資訊，Shape=()表示標量，dtype=int32 表示整數\n",
    "\n",
    "print(x.ndim)       #幾維\n",
    "\n",
    "x = tf.constant([1, 2, 3, 4, 5, 6]) \n",
    "print(x)\n",
    "\n",
    "x = tf.constant([[1, 2, 3], [4, 5, 6]])\n",
    "print(x)\n"
   ]
  },
  {
   "cell_type": "code",
   "execution_count": 4,
   "metadata": {},
   "outputs": [
    {
     "name": "stdout",
     "output_type": "stream",
     "text": [
      "Eager Execution 是否啟動: True\n"
     ]
    }
   ],
   "source": [
    "print(\"Eager Execution 是否啟動: {}\".format(tf.executing_eagerly()))"
   ]
  },
  {
   "cell_type": "code",
   "execution_count": 5,
   "metadata": {},
   "outputs": [
    {
     "name": "stdout",
     "output_type": "stream",
     "text": [
      "tf.Tensor(3, shape=(), dtype=int32)\n",
      "tf.Tensor(4, shape=(), dtype=int32)\n",
      "a = 3\n",
      "b = 4\n",
      "a + b = 7\n",
      "a * b = 12\n"
     ]
    }
   ],
   "source": [
    "a = tf.constant(3)\n",
    "b = tf.constant(4)\n",
    "print(a)\n",
    "print(b)\n",
    "print(\"a = {}\".format(a))\n",
    "print(\"b = {}\".format(b))\n",
    "\n",
    "c = a + b\n",
    "print(\"a + b = {}\".format(c))\n",
    "d = a * b\n",
    "print(\"a * b = {}\".format(d))"
   ]
  },
  {
   "attachments": {},
   "cell_type": "markdown",
   "metadata": {},
   "source": [
    "矩陣相乘和線性代數矩陣相乘相同"
   ]
  },
  {
   "cell_type": "code",
   "execution_count": 6,
   "metadata": {},
   "outputs": [
    {
     "name": "stdout",
     "output_type": "stream",
     "text": [
      "a constant: 2D Tensor\n",
      "a + b = \n",
      "[[2. 2.]\n",
      " [5. 7.]]\n",
      "a * b = \n",
      "[[ 5.  6.]\n",
      " [11. 12.]]\n"
     ]
    }
   ],
   "source": [
    "a = tf.constant([[1., 2.], [3., 4.]], dtype=tf.float32)\n",
    "b = np.array([[1., 0.], [2., 3.]], dtype=np.float32)\n",
    "print(\"a constant: {}D Tensor\".format(a.ndim))\n",
    "\n",
    "c = a + b\n",
    "print(\"a + b = \\n{}\".format(c))\n",
    "d = tf.matmul(a, b) \n",
    "print(\"a * b = \\n{}\".format(d))"
   ]
  },
  {
   "cell_type": "code",
   "execution_count": 7,
   "metadata": {},
   "outputs": [
    {
     "name": "stdout",
     "output_type": "stream",
     "text": [
      "tf.Tensor(\n",
      "[[2. 2.]\n",
      " [5. 7.]], shape=(2, 2), dtype=float32)\n",
      "NumpyArray:\n",
      " [[2. 2.]\n",
      " [5. 7.]]\n",
      "<class 'numpy.ndarray'>\n"
     ]
    }
   ],
   "source": [
    "print(c)\n",
    "print(\"NumpyArray:\\n {}\".format(c.numpy()))\n",
    "\n",
    "print(type(c.numpy()))"
   ]
  },
  {
   "cell_type": "code",
   "execution_count": 8,
   "metadata": {},
   "outputs": [
    {
     "name": "stdout",
     "output_type": "stream",
     "text": [
      "tf.Tensor([[2.]], shape=(1, 1), dtype=float32)\n"
     ]
    }
   ],
   "source": [
    "w = tf.Variable([[1.0]])\n",
    "with tf.GradientTape() as tape:\n",
    "    loss = w * w\n",
    "#loss=w^2\n",
    "#d/dw(loss)=2w , w=1 => grad=2\n",
    "grad = tape.gradient(loss, w)\n",
    "print(grad)"
   ]
  },
  {
   "attachments": {},
   "cell_type": "markdown",
   "metadata": {},
   "source": [
    "dense:搭建全連階層\n",
    "\n",
    "conv2d:搭建捲積層\n",
    "\n",
    "flatten:將輸出攤平成一維張量，用於捲積層與全連接層間\n",
    "\n",
    "add:兩層輸出加在一起\n",
    "\n",
    "concatenate:兩層輸出串聯，較於add計算量更大"
   ]
  },
  {
   "attachments": {},
   "cell_type": "markdown",
   "metadata": {},
   "source": [
    "### Sequential Model 序列模型\n",
    "較簡單快速 \n",
    "\n",
    "迴歸問題、分類問題\n",
    "\n",
    " 逐層搭建網路\n",
    " \n",
    "  必須單輸入單輸出\n",
    "\n",
    "\n"
   ]
  },
  {
   "cell_type": "code",
   "execution_count": 9,
   "metadata": {},
   "outputs": [],
   "source": [
    "#輸入為28x28 (拉平為784的一維向量)的影像，輸出為10 (分為十個類別)\n",
    "model = keras.Sequential(name='Sequential')\n",
    "model.add(layers.Dense(64, activation='relu', input_shape=(784,)))\n",
    "model.add(layers.Dense(64, activation='relu'))\n",
    "model.add(layers.Dense(10, activation='softmax'))"
   ]
  },
  {
   "cell_type": "code",
   "execution_count": 10,
   "metadata": {},
   "outputs": [],
   "source": [
    "model = tf.keras.Sequential([layers.Dense(64, activation='relu', input_shape=(784,)),\n",
    "                             layers.Dense(64, activation='relu'), \n",
    "                             layers.Dense(10, activation='softmax')])"
   ]
  },
  {
   "cell_type": "code",
   "execution_count": 11,
   "metadata": {},
   "outputs": [
    {
     "data": {
      "image/png": "[encoded data removed]",
      "text/plain": [
       "<IPython.core.display.Image object>"
      ]
     },
     "execution_count": 11,
     "metadata": {},
     "output_type": "execute_result"
    }
   ],
   "source": [
    "# 產生網絡拓撲圖\n",
    "plot_model(model, to_file='Sequential_Model.png')\n",
    "\n",
    "# 秀出網絡拓撲圖\n",
    "Image('Sequential_Model.png')"
   ]
  },
  {
   "attachments": {},
   "cell_type": "markdown",
   "metadata": {},
   "source": [
    "### funtion api      函數式模型\n",
    "可單/多輸入 單/多輸出\n"
   ]
  },
  {
   "cell_type": "code",
   "execution_count": 12,
   "metadata": {},
   "outputs": [
    {
     "data": {
      "image/png": "[encoded data removed]",
      "text/plain": [
       "<IPython.core.display.Image object>"
      ]
     },
     "execution_count": 12,
     "metadata": {},
     "output_type": "execute_result"
    }
   ],
   "source": [
    "#single input single output\n",
    "inputs = keras.Input(shape=(784,), name='Input')\n",
    "hidden1 = layers.Dense(64, activation='relu', name='hidden1')(inputs)\n",
    "hidden2 = layers.Dense(64, activation='relu', name='hidden2')(hidden1)\n",
    "outputs = layers.Dense(10, activation='softmax', name='Output')(hidden2)\n",
    "\n",
    "model = keras.Model(inputs=inputs, outputs=outputs)\n",
    "\n",
    "# 產生網絡拓撲圖\n",
    "plot_model(model, to_file='Functional_API_Sample_Model.png')\n",
    "\n",
    "# 秀出網絡拓撲圖\n",
    "Image('Functional_API_Sample_Model.png')\n"
   ]
  },
  {
   "cell_type": "code",
   "execution_count": 13,
   "metadata": {},
   "outputs": [
    {
     "data": {
      "image/png": "[encoded data removed]",
      "text/plain": [
       "<IPython.core.display.Image object>"
      ]
     },
     "execution_count": 13,
     "metadata": {},
     "output_type": "execute_result"
    }
   ],
   "source": [
    "#multi input \n",
    "img_input = keras.Input(shape=(128, 128, 3), name='Image_Input')\n",
    "info_input = keras.Input(shape=(1, ), name='Information_Input')\n",
    "\n",
    "hidden1_1 = layers.Conv2D(64, kernel_size=5, strides=2, activation='relu', name='hidden1_1')(img_input)\n",
    "hidden1_2 = layers.Conv2D(32, kernel_size=5, strides=2, activation='relu', name='hidden1_2')(hidden1_1)\n",
    "hidden1_2_ft= layers.Flatten()(hidden1_2)\n",
    "hidden1_3 = layers.Dense(64, activation='relu', name='hidden1_3')(info_input)\n",
    "concat = layers.Concatenate()([hidden1_2_ft, hidden1_3])\n",
    "hidden2 = layers.Dense(64, activation='relu', name='hidden2')(concat)\n",
    "outputs = layers.Dense(1, name='Output')(hidden2)\n",
    "\n",
    "model = keras.Model(inputs=[img_input, info_input], outputs=outputs)\n",
    "\n",
    "# 產生網絡拓撲圖\n",
    "plot_model(model, to_file='Functional_API_Multi_Input_Model.png')\n",
    "\n",
    "# 秀出網絡拓撲圖\n",
    "Image('Functional_API_Multi_Input_Model.png')\n",
    "\n",
    "\n"
   ]
  },
  {
   "cell_type": "code",
   "execution_count": 14,
   "metadata": {},
   "outputs": [
    {
     "data": {
      "image/png": "[encoded data removed]",
      "text/plain": [
       "<IPython.core.display.Image object>"
      ]
     },
     "execution_count": 14,
     "metadata": {},
     "output_type": "execute_result"
    }
   ],
   "source": [
    "#multi output\n",
    "\n",
    "inputs = keras.Input(shape=(128, 128, 3), name='Input')\n",
    "\n",
    "hidden1 = layers.Conv2D(64, kernel_size=3, activation='relu', name='hidden1')(inputs)\n",
    "hidden2 = layers.Conv2D(64, kernel_size=3, strides=2, activation='relu', name='hidden2')(hidden1)\n",
    "hidden3 = layers.Conv2D(64, kernel_size=3, strides=2, activation='relu', name='hidden3')(hidden2)\n",
    "flatten = layers.Flatten()(hidden3)\n",
    "\n",
    "age_output = layers.Dense(1, name='Age_Output')(flatten)\n",
    "gender_output = layers.Dense(1, name='Gender_Output')(flatten)\n",
    "\n",
    "model = keras.Model(inputs=inputs, outputs=[age_output, gender_output])\n",
    "\n",
    "# 產生網絡拓撲圖\n",
    "plot_model(model, to_file='Functional_API_Multi_Output_Model.png')\n",
    "\n",
    "# 秀出網絡拓撲圖\n",
    "Image('Functional_API_Multi_Output_Model.png')\n"
   ]
  },
  {
   "cell_type": "code",
   "execution_count": 15,
   "metadata": {},
   "outputs": [
    {
     "data": {
      "image/png": "[encoded data removed]",
      "text/plain": [
       "<IPython.core.display.Image object>"
      ]
     },
     "execution_count": 15,
     "metadata": {},
     "output_type": "execute_result"
    }
   ],
   "source": [
    "#multi input multi output\n",
    "\n",
    "image_inputs = keras.Input(shape=(256, 256, 3), name='Image_Input')\n",
    "hidden1 = layers.Conv2D(64, kernel_size=3, activation='relu', name='hidden1')(image_inputs)\n",
    "hidden2 = layers.Conv2D(64, kernel_size=3, strides=2, activation='relu', name='hidden2')(hidden1)\n",
    "hidden3 = layers.Conv2D(64, kernel_size=3, strides=2, activation='relu', name='hidden3')(hidden2)\n",
    "flatten = layers.Flatten(name='flatten')(hidden3)\n",
    "\n",
    "info_inputs = keras.Input(shape=(10, ), name='Info_Input')\n",
    "hidden4 = layers.Dense(64,name='hidden4')(info_inputs)\n",
    "\n",
    "concat = layers.Concatenate(name='concat')([flatten, hidden4])\n",
    "\n",
    "weather_outputs = layers.Dense(1, name='Output1')(concat)\n",
    "temp_outputs = layers.Dense(1, name='Output2')(concat)\n",
    "humidity_outputs = layers.Dense(1, name='Output3')(concat)\n",
    "\n",
    "model = keras.Model(inputs=[image_inputs, info_inputs], \n",
    "                    outputs=[weather_outputs, temp_outputs, humidity_outputs])\n",
    "\n",
    "# 產生網絡拓撲圖\n",
    "plot_model(model, to_file='Functional_API_Multi_Input_Multi_Output_Model.png')\n",
    "\n",
    "# 秀出網絡拓撲圖\n",
    "Image('Functional_API_Multi_Input_Multi_Output_Model.png')"
   ]
  },
  {
   "attachments": {},
   "cell_type": "markdown",
   "metadata": {},
   "source": [
    "### tf.data"
   ]
  },
  {
   "cell_type": "code",
   "execution_count": 16,
   "metadata": {},
   "outputs": [
    {
     "name": "stdout",
     "output_type": "stream",
     "text": [
      "<TensorDataset element_spec=TensorSpec(shape=(10,), dtype=tf.int32, name=None)>\n"
     ]
    }
   ],
   "source": [
    "dataset = tf.data.Dataset.from_tensors(tf.constant([1, 2, 3, 4, 5, 6, 7, 8, 9, 10], shape=(10, )))\n",
    "print(dataset)"
   ]
  },
  {
   "attachments": {},
   "cell_type": "markdown",
   "metadata": {},
   "source": [
    "slices一次讀一個數值\n"
   ]
  },
  {
   "cell_type": "code",
   "execution_count": 17,
   "metadata": {},
   "outputs": [
    {
     "name": "stdout",
     "output_type": "stream",
     "text": [
      "<TensorSliceDataset element_spec=TensorSpec(shape=(), dtype=tf.int32, name=None)>\n",
      "<TensorSliceDataset element_spec=TensorSpec(shape=(), dtype=tf.int32, name=None)>\n"
     ]
    }
   ],
   "source": [
    "\n",
    "x_data = tf.data.Dataset.from_tensor_slices(tf.constant([0, 1, 2, 3, 4, 5, 6, 7, 8, 9], shape=(10, )))\n",
    "print(x_data)\n",
    "\n",
    "y_data = tf.data.Dataset.from_tensor_slices(tf.constant([0, 2, 4, 6, 8, 10, 12, 14, 16, 18], shape=(10, )))\n",
    "print(y_data)"
   ]
  },
  {
   "cell_type": "code",
   "execution_count": 18,
   "metadata": {},
   "outputs": [
    {
     "name": "stdout",
     "output_type": "stream",
     "text": [
      "tf.Tensor([ 1  2  3  4  5  6  7  8  9 10], shape=(10,), dtype=int32)\n"
     ]
    }
   ],
   "source": [
    "for data in dataset:\n",
    "    print(data)"
   ]
  },
  {
   "cell_type": "code",
   "execution_count": 19,
   "metadata": {},
   "outputs": [
    {
     "name": "stdout",
     "output_type": "stream",
     "text": [
      "x: 0, y: 0\n",
      "x: 1, y: 2\n",
      "x: 2, y: 4\n",
      "x: 3, y: 6\n",
      "x: 4, y: 8\n",
      "x: 5, y: 10\n",
      "x: 6, y: 12\n",
      "x: 7, y: 14\n",
      "x: 8, y: 16\n",
      "x: 9, y: 18\n"
     ]
    }
   ],
   "source": [
    "for data1, data2 in zip(x_data, y_data):\n",
    "    print('x: {}, y: {}'.format(data1, data2))"
   ]
  },
  {
   "attachments": {},
   "cell_type": "markdown",
   "metadata": {},
   "source": [
    ".take(n)指定讀取資料數量"
   ]
  },
  {
   "cell_type": "code",
   "execution_count": 20,
   "metadata": {},
   "outputs": [
    {
     "name": "stdout",
     "output_type": "stream",
     "text": [
      "x: 0, y: 0\n",
      "x: 1, y: 2\n",
      "x: 2, y: 4\n",
      "x: 3, y: 6\n",
      "x: 4, y: 8\n"
     ]
    }
   ],
   "source": [
    "for data1, data2 in zip(x_data.take(5), y_data.take(5)):\n",
    "    print('x: {}, y: {}'.format(data1, data2))"
   ]
  },
  {
   "cell_type": "code",
   "execution_count": 21,
   "metadata": {},
   "outputs": [
    {
     "name": "stdout",
     "output_type": "stream",
     "text": [
      "x: 0, y: 0\n",
      "x: 1, y: 2\n",
      "x: 2, y: 4\n",
      "x: 3, y: 6\n",
      "x: 4, y: 8\n",
      "x: 5, y: 10\n",
      "x: 6, y: 12\n",
      "x: 7, y: 14\n",
      "x: 8, y: 16\n",
      "x: 9, y: 18\n"
     ]
    }
   ],
   "source": [
    "for data1, data2 in zip(x_data.take(12), y_data.take(12)):\n",
    "    print('x: {}, y: {}'.format(data1, data2))"
   ]
  },
  {
   "attachments": {},
   "cell_type": "markdown",
   "metadata": {},
   "source": [
    "將多個dataset打包成一個"
   ]
  },
  {
   "cell_type": "code",
   "execution_count": 22,
   "metadata": {},
   "outputs": [
    {
     "name": "stdout",
     "output_type": "stream",
     "text": [
      "<ZipDataset element_spec=(TensorSpec(shape=(), dtype=tf.int32, name=None), TensorSpec(shape=(), dtype=tf.int32, name=None))>\n"
     ]
    }
   ],
   "source": [
    "dataset = tf.data.Dataset.zip((x_data, y_data))\n",
    "print(dataset)"
   ]
  },
  {
   "attachments": {},
   "cell_type": "markdown",
   "metadata": {},
   "source": [
    "可以用map轉換數據"
   ]
  },
  {
   "cell_type": "code",
   "execution_count": 28,
   "metadata": {},
   "outputs": [
    {
     "data": {
      "text/plain": [
       "[<tf.Tensor: shape=(), dtype=int64, numpy=0>,\n",
       " <tf.Tensor: shape=(), dtype=int64, numpy=2>,\n",
       " <tf.Tensor: shape=(), dtype=int64, numpy=4>,\n",
       " <tf.Tensor: shape=(), dtype=int64, numpy=6>,\n",
       " <tf.Tensor: shape=(), dtype=int64, numpy=8>,\n",
       " <tf.Tensor: shape=(), dtype=int64, numpy=10>,\n",
       " <tf.Tensor: shape=(), dtype=int64, numpy=12>,\n",
       " <tf.Tensor: shape=(), dtype=int64, numpy=14>,\n",
       " <tf.Tensor: shape=(), dtype=int64, numpy=16>,\n",
       " <tf.Tensor: shape=(), dtype=int64, numpy=18>]"
      ]
     },
     "metadata": {},
     "output_type": "display_data"
    }
   ],
   "source": [
    "display(list(tf.data.Dataset.range(10).map(lambda x: x*2)))\n"
   ]
  },
  {
   "attachments": {},
   "cell_type": "markdown",
   "metadata": {},
   "source": [
    "可以字典方式為elements的組件命名"
   ]
  },
  {
   "cell_type": "code",
   "execution_count": 29,
   "metadata": {},
   "outputs": [
    {
     "name": "stdout",
     "output_type": "stream",
     "text": [
      "<ZipDataset element_spec={'x': TensorSpec(shape=(), dtype=tf.int64, name=None), 'y': TensorSpec(shape=(), dtype=tf.int64, name=None)}>\n"
     ]
    }
   ],
   "source": [
    "x = tf.data.Dataset.range(10)\n",
    "y = tf.data.Dataset.range(10).map(lambda x: x*2)\n",
    "\n",
    "dataset = tf.data.Dataset.zip({\"x\": x, \"y\": y})\n",
    "print(dataset)"
   ]
  },
  {
   "cell_type": "code",
   "execution_count": 30,
   "metadata": {},
   "outputs": [
    {
     "name": "stdout",
     "output_type": "stream",
     "text": [
      "x: 0, y: 0\n",
      "x: 1, y: 2\n",
      "x: 2, y: 4\n",
      "x: 3, y: 6\n",
      "x: 4, y: 8\n",
      "x: 5, y: 10\n",
      "x: 6, y: 12\n",
      "x: 7, y: 14\n",
      "x: 8, y: 16\n",
      "x: 9, y: 18\n"
     ]
    }
   ],
   "source": [
    "for data in dataset.take(10):\n",
    "    print('x: {}, y: {}'.format(data['x'], data['y']))"
   ]
  },
  {
   "attachments": {},
   "cell_type": "markdown",
   "metadata": {},
   "source": [
    "設定每batch讀取的數量"
   ]
  },
  {
   "cell_type": "code",
   "execution_count": 31,
   "metadata": {},
   "outputs": [
    {
     "name": "stdout",
     "output_type": "stream",
     "text": [
      "x: [0 1], y: [0 2]\n",
      "x: [2 3], y: [4 6]\n",
      "x: [4 5], y: [ 8 10]\n",
      "x: [6 7], y: [12 14]\n",
      "x: [8 9], y: [16 18]\n"
     ]
    }
   ],
   "source": [
    "dataset = tf.data.Dataset.zip({\"x\": x, \"y\": y}).batch(2)\n",
    "\n",
    "for data in dataset.take(5):\n",
    "    print('x: {}, y: {}'.format(data['x'], data['y']))"
   ]
  },
  {
   "attachments": {},
   "cell_type": "markdown",
   "metadata": {},
   "source": [
    "shuffle：資料會被載入buffer中，並從buffer中隨機選取資料出來，取出資料產生的空位會從新的數據替補。而buffer_size是設定buffer大小，最好的設定是大於或等於整個dataset資料個個數。"
   ]
  },
  {
   "cell_type": "code",
   "execution_count": 32,
   "metadata": {},
   "outputs": [
    {
     "name": "stdout",
     "output_type": "stream",
     "text": [
      "x: [2 3], y: [4 6]\n",
      "x: [0 1], y: [0 2]\n",
      "x: [4 5], y: [ 8 10]\n",
      "x: [6 7], y: [12 14]\n",
      "x: [8 9], y: [16 18]\n"
     ]
    }
   ],
   "source": [
    "dataset = dataset.shuffle(10)\n",
    "for data in dataset.take(5):\n",
    "    print('x: {}, y: {}'.format(data['x'], data['y']))"
   ]
  },
  {
   "attachments": {},
   "cell_type": "markdown",
   "metadata": {},
   "source": [
    "repeat：當dataset的資料讀取完後就讀會取不到資料，透過設定repeat(n)可以重複讀取dataset n次。"
   ]
  },
  {
   "cell_type": "code",
   "execution_count": 33,
   "metadata": {},
   "outputs": [
    {
     "name": "stdout",
     "output_type": "stream",
     "text": [
      "x: [6 7], y: [12 14]\n",
      "x: [4 5], y: [ 8 10]\n",
      "x: [2 3], y: [4 6]\n",
      "x: [8 9], y: [16 18]\n",
      "x: [0 1], y: [0 2]\n",
      "--------------------------------------------------\n",
      "x: [4 5], y: [ 8 10]\n",
      "x: [8 9], y: [16 18]\n",
      "x: [2 3], y: [4 6]\n",
      "x: [0 1], y: [0 2]\n",
      "x: [6 7], y: [12 14]\n",
      "x: [6 7], y: [12 14]\n",
      "x: [0 1], y: [0 2]\n",
      "x: [4 5], y: [ 8 10]\n",
      "x: [8 9], y: [16 18]\n",
      "x: [2 3], y: [4 6]\n"
     ]
    }
   ],
   "source": [
    "for data in dataset.take(10):\n",
    "    print('x: {}, y: {}'.format(data['x'], data['y']))\n",
    "\n",
    "    \n",
    "print('-' * 50)\n",
    "dataset = dataset.repeat(2)\n",
    "for data in dataset.take(10):\n",
    "    print('x: {}, y: {}'.format(data['x'], data['y']))"
   ]
  }
 ],
 "metadata": {
  "kernelspec": {
   "display_name": "Python 3",
   "language": "python",
   "name": "python3"
  },
  "language_info": {
   "codemirror_mode": {
    "name": "ipython",
    "version": 3
   },
   "file_extension": ".py",
   "mimetype": "text/x-python",
   "name": "python",
   "nbconvert_exporter": "python",
   "pygments_lexer": "ipython3",
   "version": "3.9.13 (tags/v3.9.13:6de2ca5, May 17 2022, 16:36:42) [MSC v.1929 64 bit (AMD64)]"
  },
  "orig_nbformat": 4,
  "vscode": {
   "interpreter": {
    "hash": "59e28edaca8d48efe3ba8b1a9cfaf5b90f86910db2db3c89dd8dac6b042bae31"
   }
  }
 },
 "nbformat": 4,
 "nbformat_minor": 2
}
