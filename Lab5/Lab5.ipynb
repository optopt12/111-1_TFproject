{
 "cells": [
  {
   "cell_type": "markdown",
   "metadata": {},
   "source": [
    "# Lab 5"
   ]
  },
  {
   "cell_type": "markdown",
   "metadata": {},
   "source": [
    "### Import"
   ]
  },
  {
   "cell_type": "code",
   "execution_count": 1,
   "metadata": {},
   "outputs": [],
   "source": [
    "import os\n",
    "import numpy as np\n",
    "import pandas as pd\n",
    "import tensorflow as tf\n",
    "import matplotlib.pyplot as plt\n",
    "import tensorflow_datasets as tfds\n",
    "\n",
    "from tensorflow import keras\n",
    "from tensorflow.keras import layers\n",
    "from tensorflow.keras import initializers\n",
    "\n",
    "import sys\n",
    "sys.path.append(\"..\")\n",
    "import image_preprocessing\n",
    "\n",
    "\n",
    "\n",
    "# from preprocessing import parse_aug_fn, parse_fn"
   ]
  },
  {
   "cell_type": "code",
   "execution_count": null,
   "metadata": {},
   "outputs": [],
   "source": [
    "#for colab \n",
    "\n",
    "def flip(x):\n",
    "    \"\"\"\n",
    "    flip image(翻轉影像)\n",
    "    \"\"\"\n",
    "    x = tf.image.random_flip_left_right(x)  # 隨機左右翻轉影像\n",
    "    return x\n",
    "\n",
    "def color(x):\n",
    "    \"\"\"\n",
    "     Color change(改變顏色)\n",
    "    \"\"\"\n",
    "    x = tf.image.random_hue(x, 0.08)  # 隨機調整影像色調\n",
    "    x = tf.image.random_saturation(x, 0.6, 1.6)  # 隨機調整影像飽和度\n",
    "    x = tf.image.random_brightness(x, 0.05)  # 隨機調整影像亮度\n",
    "    x = tf.image.random_contrast(x, 0.7, 1.3)  # 隨機調整影像對比度\n",
    "    return x\n",
    "\n",
    "def rotate(x):\n",
    "    \"\"\"\n",
    "    Rotation image(影像旋轉)\n",
    "    \"\"\"\n",
    "    # 隨機選轉n次(通過minval和maxval設定n的範圍)，每次選轉90度\n",
    "    x = tf.image.rot90(x, tf.random.uniform(shape=[], minval=1, maxval=4, dtype=tf.int32))\n",
    "    return x\n",
    "\n",
    "def zoom(x, scale_min=0.6, scale_max=1.4):\n",
    "    \"\"\"\n",
    "    Zoom Image(影像縮放)\n",
    "    \"\"\"\n",
    "    h, w, c = x.shape\n",
    "    scale = tf.random.uniform([], scale_min, scale_max)  # 隨機縮放比例\n",
    "    sh = h * scale  # 縮放後影像長度\n",
    "    sw = w * scale  # 縮放後影像寬度\n",
    "    x = tf.image.resize(x, (sh, sw))  # 影像縮放\n",
    "    x = tf.image.resize_with_crop_or_pad(x, h, w)  # 影像裁減和填補\n",
    "    return x\n",
    "\n",
    "def parse_aug_fn(dataset):\n",
    "    \"\"\"\n",
    "    Image Augmentation(影像增強) function\n",
    "    \"\"\"\n",
    "    x = tf.cast(dataset['image'], tf.float32) / 255.  # 影像標準化\n",
    "    x = flip(x)  # 隨機水平翻轉\n",
    "    # 觸發顏色轉換機率50%\n",
    "    x = tf.cond(tf.random.uniform([], 0, 1) > 0.5, lambda: color(x), lambda: x)\n",
    "    # 觸發影像旋轉機率0.25%\n",
    "    x = tf.cond(tf.random.uniform([], 0, 1) > 0.75, lambda: rotate(x), lambda: x)\n",
    "    # 觸發影像縮放機率50%\n",
    "    x = tf.cond(tf.random.uniform([], 0, 1) > 0.5, lambda: zoom(x), lambda: x)\n",
    "    # 將輸出標籤轉乘One-hot編碼\n",
    "    y = tf.one_hot(dataset['label'], 10)\n",
    "    return x, y\n",
    "\n",
    "def parse_fn(dataset):\n",
    "    x = tf.cast(dataset['image'], tf.float32) / 255.  # 影像標準化\n",
    "    # 將輸出標籤轉乘One-hot編碼\n",
    "    y = tf.one_hot(dataset['label'], 10)\n",
    "    return x, y"
   ]
  },
  {
   "cell_type": "markdown",
   "metadata": {},
   "source": [
    "## Activation Function 激活函數"
   ]
  },
  {
   "cell_type": "markdown",
   "metadata": {},
   "source": [
    "1. ReLU"
   ]
  },
  {
   "cell_type": "code",
   "execution_count": 2,
   "metadata": {
    "scrolled": true
   },
   "outputs": [
    {
     "data": {
      "text/plain": [
       "<matplotlib.legend.Legend at 0x196c0ef5e80>"
      ]
     },
     "execution_count": 2,
     "metadata": {},
     "output_type": "execute_result"
    },
    {
     "data": {
      "image/png": "[encoded data removed]",
      "text/plain": [
       "<Figure size 432x288 with 1 Axes>"
      ]
     },
     "metadata": {
      "needs_background": "light"
     },
     "output_type": "display_data"
    }
   ],
   "source": [
    "x = np.arange(-2, 2, 0.01)\n",
    "y = np.where(x>0, x, 0)\n",
    "plt.plot(x, y, label='Liner')\n",
    "plt.grid(True)\n",
    "x = np.arange(-2, 2, 0.01)\n",
    "y = np.where(x>0, 1, 0)\n",
    "plt.plot(x, y, label='Derivative of Liner')\n",
    "plt.grid(True)\n",
    "plt.legend(loc='upper left')"
   ]
  },
  {
   "cell_type": "markdown",
   "metadata": {},
   "source": [
    "2. Sigmoid"
   ]
  },
  {
   "cell_type": "code",
   "execution_count": 3,
   "metadata": {},
   "outputs": [
    {
     "data": {
      "text/plain": [
       "<matplotlib.legend.Legend at 0x196c303adc0>"
      ]
     },
     "execution_count": 3,
     "metadata": {},
     "output_type": "execute_result"
    },
    {
     "data": {
      "image/png": "[encoded data removed]",
      "text/plain": [
       "<Figure size 432x288 with 1 Axes>"
      ]
     },
     "metadata": {
      "needs_background": "light"
     },
     "output_type": "display_data"
    }
   ],
   "source": [
    "x1 = np.arange(-5, 5, 0.01)\n",
    "y1 = 1 / (1 + np.exp(-x1))\n",
    "plt.plot(x1, y1, label='Sigmoid')\n",
    "plt.grid(True)\n",
    "x2 = np.arange(-5, 5, 0.01)\n",
    "y2 = (1 / (1 + np.exp(-x2))) * (1 - (1 / (1 + np.exp(-x2))))\n",
    "plt.plot(x2, y2, label='Derivative of Sigmoid')\n",
    "plt.grid(True)\n",
    "plt.legend(loc='upper left')"
   ]
  },
  {
   "cell_type": "markdown",
   "metadata": {},
   "source": [
    "3. Tanh"
   ]
  },
  {
   "cell_type": "code",
   "execution_count": 4,
   "metadata": {
    "scrolled": true
   },
   "outputs": [
    {
     "data": {
      "text/plain": [
       "<matplotlib.legend.Legend at 0x196c30b5730>"
      ]
     },
     "execution_count": 4,
     "metadata": {},
     "output_type": "execute_result"
    },
    {
     "data": {
      "image/png": "[encoded data removed]",
      "text/plain": [
       "<Figure size 432x288 with 1 Axes>"
      ]
     },
     "metadata": {
      "needs_background": "light"
     },
     "output_type": "display_data"
    }
   ],
   "source": [
    "x = np.arange(-5, 5, 0.01)\n",
    "y = (np.exp(x) - np.exp(-x)) / (np.exp(x) + np.exp(-x))\n",
    "plt.plot(x, y, label='Tanh')\n",
    "plt.grid(True)\n",
    "x = np.arange(-5, 5, 0.01)\n",
    "y = 1 - np.square((np.exp(x) - np.exp(-x)) / (np.exp(x) + np.exp(-x)))\n",
    "plt.plot(x, y, label='Derivative of Tanh')\n",
    "plt.grid(True)\n",
    "plt.legend(loc='upper left')"
   ]
  },
  {
   "cell_type": "markdown",
   "metadata": {},
   "source": [
    "## 權重初始化"
   ]
  },
  {
   "cell_type": "markdown",
   "metadata": {},
   "source": [
    "1. RandomNormal (std 1 )"
   ]
  },
  {
   "cell_type": "code",
   "execution_count": 5,
   "metadata": {},
   "outputs": [],
   "source": [
    "inputs = keras.Input(shape=(100,))\n",
    "x1 = layers.Dense(100, 'sigmoid', False, initializers.RandomNormal(0, 1))(inputs)\n",
    "x2 = layers.Dense(100, 'sigmoid', False, initializers.RandomNormal(0, 1))(x1)\n",
    "x3 = layers.Dense(100, 'sigmoid', False, initializers.RandomNormal(0, 1))(x2)\n",
    "x4 = layers.Dense(100, 'sigmoid', False, initializers.RandomNormal(0, 1))(x3)\n",
    "x5 = layers.Dense(100, 'sigmoid', False, initializers.RandomNormal(0, 1))(x4)\n",
    "model_1 = keras.Model(inputs, [x1, x2, x3, x4, x5])"
   ]
  },
  {
   "cell_type": "code",
   "execution_count": 6,
   "metadata": {
    "scrolled": true
   },
   "outputs": [
    {
     "name": "stdout",
     "output_type": "stream",
     "text": [
      "4/4 [==============================] - 0s 3ms/step\n"
     ]
    },
    {
     "data": {
      "image/png": "[encoded data removed]",
      "text/plain": [
       "<Figure size 432x288 with 5 Axes>"
      ]
     },
     "metadata": {
      "needs_background": "light"
     },
     "output_type": "display_data"
    }
   ],
   "source": [
    "x = np.random.randn(100, 100)\n",
    "outputs = model_1.predict(x)\n",
    "for i, layer_output in enumerate(outputs):\n",
    "    plt.subplot(1, 5, i+1)  # 選擇顯示在表中的哪個格子裡\n",
    "    plt.title(str(i+1) + \"-layer\")  # 設定值方圖的標題\n",
    "    if i != 0: plt.yticks([], [])  # 只顯示第一列值方圖的y軸\n",
    "    plt.hist(layer_output.flatten(), 30, range=[0,1])  # 畫出值方圖\n",
    "plt.show()"
   ]
  },
  {
   "cell_type": "markdown",
   "metadata": {},
   "source": [
    "2. RandomNormal (std 0.05 )"
   ]
  },
  {
   "cell_type": "code",
   "execution_count": 7,
   "metadata": {},
   "outputs": [],
   "source": [
    "inputs = keras.Input(shape=(100,))\n",
    "x1 = layers.Dense(100, 'sigmoid', False, initializers.RandomNormal(0, 0.01))(inputs)\n",
    "x2 = layers.Dense(100, 'sigmoid', False, initializers.RandomNormal(0, 0.01))(x1)\n",
    "x3 = layers.Dense(100, 'sigmoid', False, initializers.RandomNormal(0, 0.01))(x2)\n",
    "x4 = layers.Dense(100, 'sigmoid', False, initializers.RandomNormal(0, 0.01))(x3)\n",
    "x5 = layers.Dense(100, 'sigmoid', False, initializers.RandomNormal(0, 0.01))(x4)\n",
    "model_2 = keras.Model(inputs, [x1, x2, x3, x4, x5])"
   ]
  },
  {
   "cell_type": "code",
   "execution_count": 8,
   "metadata": {},
   "outputs": [
    {
     "name": "stdout",
     "output_type": "stream",
     "text": [
      "4/4 [==============================] - 0s 2ms/step\n"
     ]
    },
    {
     "data": {
      "image/png": "[encoded data removed]",
      "text/plain": [
       "<Figure size 432x288 with 5 Axes>"
      ]
     },
     "metadata": {
      "needs_background": "light"
     },
     "output_type": "display_data"
    }
   ],
   "source": [
    "x = np.random.randn(100, 100)\n",
    "outputs = model_2.predict(x)\n",
    "for i, layer_output in enumerate(outputs):\n",
    "    plt.subplot(1, 5, i+1)  # 選擇顯示在表中的哪個格子裡\n",
    "    plt.title(str(i+1) + \"-layer\")  # 設定值方圖的標題\n",
    "    if i != 0: plt.yticks([], [])  # 只顯示第一列值方圖的y軸\n",
    "    plt.hist(layer_output.flatten(), 30, range=[0,1])  # 畫出值方圖\n",
    "plt.show()"
   ]
  },
  {
   "cell_type": "markdown",
   "metadata": {},
   "source": [
    "3. Xavier/Glorot Initialization (Sigmoid)"
   ]
  },
  {
   "cell_type": "code",
   "execution_count": 9,
   "metadata": {},
   "outputs": [],
   "source": [
    "inputs = keras.Input(shape=(100,))\n",
    "x1 = layers.Dense(100, 'sigmoid', False, initializers.glorot_normal())(inputs)\n",
    "x2 = layers.Dense(100, 'sigmoid', False, initializers.glorot_normal())(x1)\n",
    "x3 = layers.Dense(100, 'sigmoid', False, initializers.glorot_normal())(x2)\n",
    "x4 = layers.Dense(100, 'sigmoid', False, initializers.glorot_normal())(x3)\n",
    "x5 = layers.Dense(100, 'sigmoid', False, initializers.glorot_normal())(x4)\n",
    "model_3 = keras.Model(inputs, [x1, x2, x3, x4, x5])"
   ]
  },
  {
   "cell_type": "code",
   "execution_count": 10,
   "metadata": {},
   "outputs": [
    {
     "name": "stdout",
     "output_type": "stream",
     "text": [
      "4/4 [==============================] - 0s 2ms/step\n"
     ]
    },
    {
     "data": {
      "image/png": "[encoded data removed]",
      "text/plain": [
       "<Figure size 432x288 with 5 Axes>"
      ]
     },
     "metadata": {
      "needs_background": "light"
     },
     "output_type": "display_data"
    }
   ],
   "source": [
    "x = np.random.randn(100, 100)\n",
    "outputs = model_3.predict(x)\n",
    "for i, layer_output in enumerate(outputs):\n",
    "    plt.subplot(1, 5, i+1)  # 選擇顯示在表中的哪個格子裡\n",
    "    plt.title(str(i+1) + \"-layer\")  # 設定值方圖的標題\n",
    "    if i != 0: plt.yticks([], [])  # 只顯示第一列值方圖的y軸\n",
    "    plt.hist(layer_output.flatten(), 30, range=[0,1])  # 畫出值方圖\n",
    "plt.show()"
   ]
  },
  {
   "cell_type": "markdown",
   "metadata": {},
   "source": [
    "4. Xavier/Glorot Initialization (ReLU)"
   ]
  },
  {
   "cell_type": "code",
   "execution_count": 11,
   "metadata": {},
   "outputs": [],
   "source": [
    "inputs = keras.Input(shape=(100,))\n",
    "x1 = layers.Dense(100, 'relu', False, initializers.glorot_normal())(inputs)\n",
    "x2 = layers.Dense(100, 'relu', False, initializers.glorot_normal())(x1)\n",
    "x3 = layers.Dense(100, 'relu', False, initializers.glorot_normal())(x2)\n",
    "x4 = layers.Dense(100, 'relu', False, initializers.glorot_normal())(x3)\n",
    "x5 = layers.Dense(100, 'relu', False, initializers.glorot_normal())(x4)\n",
    "model_4 = keras.Model(inputs, [x1, x2, x3, x4, x5])"
   ]
  },
  {
   "cell_type": "code",
   "execution_count": 12,
   "metadata": {},
   "outputs": [
    {
     "name": "stdout",
     "output_type": "stream",
     "text": [
      "4/4 [==============================] - 0s 2ms/step\n"
     ]
    },
    {
     "data": {
      "image/png": "[encoded data removed]",
      "text/plain": [
       "<Figure size 432x288 with 5 Axes>"
      ]
     },
     "metadata": {
      "needs_background": "light"
     },
     "output_type": "display_data"
    }
   ],
   "source": [
    "x = np.random.randn(100, 100)\n",
    "outputs = model_4.predict(x)\n",
    "for i, layer_output in enumerate(outputs):\n",
    "    plt.subplot(1, 5, i+1)  # 選擇顯示在表中的哪個格子裡\n",
    "    plt.title(str(i+1) + \"-layer\")  # 設定值方圖的標題\n",
    "    if i != 0: plt.yticks([], [])  # 只顯示第一列值方圖的y軸\n",
    "    plt.hist(layer_output.flatten(), 30, range=[0,1])  # 畫出值方圖\n",
    "plt.show()"
   ]
  },
  {
   "cell_type": "markdown",
   "metadata": {},
   "source": [
    "5. He initialization"
   ]
  },
  {
   "cell_type": "code",
   "execution_count": 13,
   "metadata": {},
   "outputs": [],
   "source": [
    "inputs = keras.Input(shape=(100,))\n",
    "x1 = layers.Dense(100, 'relu', False, initializers.he_normal())(inputs)\n",
    "x2 = layers.Dense(100, 'relu', False, initializers.he_normal())(x1)\n",
    "x3 = layers.Dense(100, 'relu', False, initializers.he_normal())(x2)\n",
    "x4 = layers.Dense(100, 'relu', False, initializers.he_normal())(x3)\n",
    "x5 = layers.Dense(100, 'relu', False, initializers.he_normal())(x4)\n",
    "model_5 = keras.Model(inputs, [x1, x2, x3, x4, x5])"
   ]
  },
  {
   "cell_type": "code",
   "execution_count": 14,
   "metadata": {},
   "outputs": [
    {
     "name": "stdout",
     "output_type": "stream",
     "text": [
      "4/4 [==============================] - 0s 1ms/step\n"
     ]
    },
    {
     "data": {
      "image/png": "[encoded data removed]",
      "text/plain": [
       "<Figure size 432x288 with 5 Axes>"
      ]
     },
     "metadata": {
      "needs_background": "light"
     },
     "output_type": "display_data"
    }
   ],
   "source": [
    "x = np.random.randn(100, 100)\n",
    "outputs = model_5.predict(x)\n",
    "for i, layer_output in enumerate(outputs):\n",
    "    plt.subplot(1, 5, i+1)  # 選擇顯示在表中的哪個格子裡\n",
    "    plt.title(str(i+1) + \"-layer\")  # 設定值方圖的標題\n",
    "    if i != 0: plt.yticks([], [])  # 只顯示第一列值方圖的y軸\n",
    "    plt.hist(layer_output.flatten(), 30, range=[0,1])  # 畫出值方圖\n",
    "plt.show()"
   ]
  },
  {
   "cell_type": "markdown",
   "metadata": {},
   "source": [
    "# 實驗一：使用CIFAR-10數據集實驗證三種權重初始化方法"
   ]
  },
  {
   "cell_type": "markdown",
   "metadata": {},
   "source": [
    "### Import必要套件"
   ]
  },
  {
   "cell_type": "code",
   "execution_count": 15,
   "metadata": {},
   "outputs": [],
   "source": [
    "import os\n",
    "import numpy as np\n",
    "import pandas as pd\n",
    "import tensorflow as tf\n",
    "import tensorflow_datasets as tfds\n",
    "import matplotlib.pyplot as plt\n",
    "from tensorflow import keras\n",
    "from tensorflow.keras import layers\n",
    "from tensorflow.keras import initializers \n",
    "\n",
    "import sys\n",
    "sys.path.append(\"..\")\n",
    "import image_preprocessing\n",
    "\n",
    "# 從資料夾中的preprocessing.py檔案中Import parse_aug_fn和parse_fn函數\n",
    "# from preprocessing import parse_aug_fn, parse_fn"
   ]
  },
  {
   "cell_type": "markdown",
   "metadata": {},
   "source": [
    "### 讀取數據並分析\n",
    "載入Cifar10數據集："
   ]
  },
  {
   "cell_type": "code",
   "execution_count": 16,
   "metadata": {},
   "outputs": [],
   "source": [
    "# 將train Data重新分成1:9等分，分別分給valid data, train data\n",
    "train_split, valid_split = ['train[:90%]', 'train[90%:]']\n",
    "# 取得訓練數據，並順便讀取data的資訊\n",
    "train_data, info = tfds.load(\"cifar10\", split=train_split, with_info=True)\n",
    "# 取得驗證數據\n",
    "valid_data = tfds.load(\"cifar10\", split=valid_split)\n",
    "# 取得測試數據\n",
    "test_data = tfds.load(\"cifar10\", split='test')"
   ]
  },
  {
   "cell_type": "markdown",
   "metadata": {},
   "source": [
    "### Dataset 設定"
   ]
  },
  {
   "cell_type": "code",
   "execution_count": 17,
   "metadata": {},
   "outputs": [],
   "source": [
    "AUTOTUNE = tf.data.experimental.AUTOTUNE  # 自動調整模式\n",
    "batch_size = 64  # 批次大小\n",
    "train_num = int(info.splits['train'].num_examples / 10) * 9  # 訓練資料數量\n",
    "\n",
    "train_data = train_data.shuffle(train_num)  # 打散資料集\n",
    "# 載入預處理「 parse_aug_fn」function，cpu數量為自動調整模式\n",
    "train_data = train_data.map(map_func=image_preprocessing.parse_aug_fn, num_parallel_calls=AUTOTUNE)\n",
    "# train_data = train_data.map(map_func=parse_aug_fn, num_parallel_calls=AUTOTUNE)\n",
    "\n",
    "# 設定批次大小並將prefetch模式開啟(暫存空間為自動調整模式)\n",
    "train_data = train_data.batch(batch_size).prefetch(buffer_size=AUTOTUNE)\n",
    "\n",
    "# 載入預處理「 parse_fn」function，cpu數量為自動調整模式\n",
    "valid_data = valid_data.map(map_func=image_preprocessing.parse_fn, num_parallel_calls=AUTOTUNE)\n",
    "# valid_data = valid_data.map(map_func=parse_fn, num_parallel_calls=AUTOTUNE)\n",
    "\n",
    "# 設定批次大小並將prefetch模式開啟(暫存空間為自動調整模式)\n",
    "valid_data = valid_data.batch(batch_size).prefetch(buffer_size=AUTOTUNE)\n",
    "\n",
    "# 載入預處理「 parse_fn」function，cpu數量為自動調整模式\n",
    "test_data = test_data.map(map_func=image_preprocessing.parse_fn, num_parallel_calls=AUTOTUNE)\n",
    "# test_data = test_data.map(map_func=parse_fn, num_parallel_calls=AUTOTUNE)\n",
    "\n",
    "# 設定批次大小並將prefetch模式開啟(暫存空間為自動調整模式)\n",
    "test_data = test_data.batch(batch_size).prefetch(buffer_size=AUTOTUNE)"
   ]
  },
  {
   "cell_type": "markdown",
   "metadata": {},
   "source": [
    "### 訓練網路模型"
   ]
  },
  {
   "cell_type": "code",
   "execution_count": 18,
   "metadata": {},
   "outputs": [],
   "source": [
    "def build_and_train_model(run_name, init):\n",
    "    \"\"\"\n",
    "    run_name:傳入目前執行的任務名子\n",
    "    init:傳入網路層初始化化的方式\n",
    "    \"\"\"\n",
    "    inputs = keras.Input(shape=(32, 32, 3))\n",
    "    x = layers.Conv2D(64, (3, 3), activation='relu', kernel_initializer=init)(inputs)\n",
    "    x = layers.MaxPool2D()(x)\n",
    "    x = layers.Conv2D(128, (3, 3), activation='relu', kernel_initializer=init)(x)\n",
    "    x = layers.Conv2D(256, (3, 3), activation='relu', kernel_initializer=init)(x)\n",
    "    x = layers.Conv2D(128, (3, 3), activation='relu', kernel_initializer=init)(x)\n",
    "    x = layers.Conv2D(64, (3, 3), activation='relu', kernel_initializer=init)(x)\n",
    "    x = layers.Flatten()(x)\n",
    "    x = layers.Dense(64, activation='relu', kernel_initializer=init)(x)\n",
    "    x = layers.Dropout(0.5)(x)\n",
    "    outputs = layers.Dense(10, activation='softmax')(x)\n",
    "    # 建立網路模型(將輸入到輸出所有經過的網路層連接起來)\n",
    "    model = keras.Model(inputs, outputs)\n",
    "    \n",
    "    # 儲存訓練記錄檔\n",
    "    logfiles = 'lab5-logs/{}-{}'.format(run_name, init.__class__.__name__)\n",
    "    model_cbk = keras.callbacks.TensorBoard(log_dir=logfiles, \n",
    "                                            histogram_freq=1)\n",
    "    # 儲存最好的網路模型權重\n",
    "    modelfiles = model_dir + '/{}-best-model.h5'.format(run_name)\n",
    "    model_mckp = keras.callbacks.ModelCheckpoint(modelfiles, \n",
    "                                                 monitor='val_categorical_accuracy', \n",
    "                                                 save_best_only=True, \n",
    "                                                 mode='max')\n",
    "    \n",
    "    # 設定訓練使用的優化器、損失函數和指標函數\n",
    "    model.compile(keras.optimizers.Adam(), \n",
    "               loss=keras.losses.CategoricalCrossentropy(), \n",
    "               metrics=[keras.metrics.CategoricalAccuracy()])\n",
    "    \n",
    "    # 訓練網路模型\n",
    "    model.fit(train_data,\n",
    "              epochs=100, \n",
    "              validation_data=valid_data,\n",
    "              callbacks=[model_cbk, model_mckp])"
   ]
  },
  {
   "cell_type": "code",
   "execution_count": 19,
   "metadata": {
    "scrolled": true
   },
   "outputs": [
    {
     "name": "stdout",
     "output_type": "stream",
     "text": [
      "--- Running training session 1\n",
      "Epoch 1/100\n",
      " 17/704 [..............................] - ETA: 2:15 - loss: 2.3028 - categorical_accuracy: 0.0882"
     ]
    },
    {
     "ename": "KeyboardInterrupt",
     "evalue": "",
     "output_type": "error",
     "traceback": [
      "\u001b[1;31m---------------------------------------------------------------------------\u001b[0m",
      "\u001b[1;31mKeyboardInterrupt\u001b[0m                         Traceback (most recent call last)",
      "\u001b[1;32md:\\CodeData\\111-1_tfproject\\lab5\\Lab5.ipynb Cell 37\u001b[0m in \u001b[0;36m<module>\u001b[1;34m\u001b[0m\n\u001b[0;32m     <a href='vscode-notebook-cell:/d%3A/CodeData/111-1_tfproject/lab5/Lab5.ipynb#X51sZmlsZQ%3D%3D?line=13'>14</a>\u001b[0m \u001b[39mprint\u001b[39m(\u001b[39m'\u001b[39m\u001b[39m--- Running training session \u001b[39m\u001b[39m%d\u001b[39;00m\u001b[39m'\u001b[39m \u001b[39m%\u001b[39m (session_num))\n\u001b[0;32m     <a href='vscode-notebook-cell:/d%3A/CodeData/111-1_tfproject/lab5/Lab5.ipynb#X51sZmlsZQ%3D%3D?line=14'>15</a>\u001b[0m run_name \u001b[39m=\u001b[39m \u001b[39m\"\u001b[39m\u001b[39mrun-\u001b[39m\u001b[39m%d\u001b[39;00m\u001b[39m\"\u001b[39m \u001b[39m%\u001b[39m session_num\n\u001b[1;32m---> <a href='vscode-notebook-cell:/d%3A/CodeData/111-1_tfproject/lab5/Lab5.ipynb#X51sZmlsZQ%3D%3D?line=15'>16</a>\u001b[0m build_and_train_model(run_name, init)  \u001b[39m# 創建和訓練網路\u001b[39;00m\n\u001b[0;32m     <a href='vscode-notebook-cell:/d%3A/CodeData/111-1_tfproject/lab5/Lab5.ipynb#X51sZmlsZQ%3D%3D?line=16'>17</a>\u001b[0m session_num \u001b[39m+\u001b[39m\u001b[39m=\u001b[39m \u001b[39m1\u001b[39m\n",
      "\u001b[1;32md:\\CodeData\\111-1_tfproject\\lab5\\Lab5.ipynb Cell 37\u001b[0m in \u001b[0;36mbuild_and_train_model\u001b[1;34m(run_name, init)\u001b[0m\n\u001b[0;32m     <a href='vscode-notebook-cell:/d%3A/CodeData/111-1_tfproject/lab5/Lab5.ipynb#X51sZmlsZQ%3D%3D?line=31'>32</a>\u001b[0m model\u001b[39m.\u001b[39mcompile(keras\u001b[39m.\u001b[39moptimizers\u001b[39m.\u001b[39mAdam(), \n\u001b[0;32m     <a href='vscode-notebook-cell:/d%3A/CodeData/111-1_tfproject/lab5/Lab5.ipynb#X51sZmlsZQ%3D%3D?line=32'>33</a>\u001b[0m            loss\u001b[39m=\u001b[39mkeras\u001b[39m.\u001b[39mlosses\u001b[39m.\u001b[39mCategoricalCrossentropy(), \n\u001b[0;32m     <a href='vscode-notebook-cell:/d%3A/CodeData/111-1_tfproject/lab5/Lab5.ipynb#X51sZmlsZQ%3D%3D?line=33'>34</a>\u001b[0m            metrics\u001b[39m=\u001b[39m[keras\u001b[39m.\u001b[39mmetrics\u001b[39m.\u001b[39mCategoricalAccuracy()])\n\u001b[0;32m     <a href='vscode-notebook-cell:/d%3A/CodeData/111-1_tfproject/lab5/Lab5.ipynb#X51sZmlsZQ%3D%3D?line=35'>36</a>\u001b[0m \u001b[39m# 訓練網路模型\u001b[39;00m\n\u001b[1;32m---> <a href='vscode-notebook-cell:/d%3A/CodeData/111-1_tfproject/lab5/Lab5.ipynb#X51sZmlsZQ%3D%3D?line=36'>37</a>\u001b[0m model\u001b[39m.\u001b[39;49mfit(train_data,\n\u001b[0;32m     <a href='vscode-notebook-cell:/d%3A/CodeData/111-1_tfproject/lab5/Lab5.ipynb#X51sZmlsZQ%3D%3D?line=37'>38</a>\u001b[0m           epochs\u001b[39m=\u001b[39;49m\u001b[39m100\u001b[39;49m, \n\u001b[0;32m     <a href='vscode-notebook-cell:/d%3A/CodeData/111-1_tfproject/lab5/Lab5.ipynb#X51sZmlsZQ%3D%3D?line=38'>39</a>\u001b[0m           validation_data\u001b[39m=\u001b[39;49mvalid_data,\n\u001b[0;32m     <a href='vscode-notebook-cell:/d%3A/CodeData/111-1_tfproject/lab5/Lab5.ipynb#X51sZmlsZQ%3D%3D?line=39'>40</a>\u001b[0m           callbacks\u001b[39m=\u001b[39;49m[model_cbk, model_mckp])\n",
      "File \u001b[1;32mc:\\Users\\ren-jing\\AppData\\Local\\Programs\\Python\\Python39\\lib\\site-packages\\keras\\utils\\traceback_utils.py:64\u001b[0m, in \u001b[0;36mfilter_traceback.<locals>.error_handler\u001b[1;34m(*args, **kwargs)\u001b[0m\n\u001b[0;32m     62\u001b[0m filtered_tb \u001b[39m=\u001b[39m \u001b[39mNone\u001b[39;00m\n\u001b[0;32m     63\u001b[0m \u001b[39mtry\u001b[39;00m:\n\u001b[1;32m---> 64\u001b[0m   \u001b[39mreturn\u001b[39;00m fn(\u001b[39m*\u001b[39margs, \u001b[39m*\u001b[39m\u001b[39m*\u001b[39mkwargs)\n\u001b[0;32m     65\u001b[0m \u001b[39mexcept\u001b[39;00m \u001b[39mException\u001b[39;00m \u001b[39mas\u001b[39;00m e:  \u001b[39m# pylint: disable=broad-except\u001b[39;00m\n\u001b[0;32m     66\u001b[0m   filtered_tb \u001b[39m=\u001b[39m _process_traceback_frames(e\u001b[39m.\u001b[39m__traceback__)\n",
      "File \u001b[1;32mc:\\Users\\ren-jing\\AppData\\Local\\Programs\\Python\\Python39\\lib\\site-packages\\keras\\engine\\training.py:1409\u001b[0m, in \u001b[0;36mModel.fit\u001b[1;34m(self, x, y, batch_size, epochs, verbose, callbacks, validation_split, validation_data, shuffle, class_weight, sample_weight, initial_epoch, steps_per_epoch, validation_steps, validation_batch_size, validation_freq, max_queue_size, workers, use_multiprocessing)\u001b[0m\n\u001b[0;32m   1402\u001b[0m \u001b[39mwith\u001b[39;00m tf\u001b[39m.\u001b[39mprofiler\u001b[39m.\u001b[39mexperimental\u001b[39m.\u001b[39mTrace(\n\u001b[0;32m   1403\u001b[0m     \u001b[39m'\u001b[39m\u001b[39mtrain\u001b[39m\u001b[39m'\u001b[39m,\n\u001b[0;32m   1404\u001b[0m     epoch_num\u001b[39m=\u001b[39mepoch,\n\u001b[0;32m   1405\u001b[0m     step_num\u001b[39m=\u001b[39mstep,\n\u001b[0;32m   1406\u001b[0m     batch_size\u001b[39m=\u001b[39mbatch_size,\n\u001b[0;32m   1407\u001b[0m     _r\u001b[39m=\u001b[39m\u001b[39m1\u001b[39m):\n\u001b[0;32m   1408\u001b[0m   callbacks\u001b[39m.\u001b[39mon_train_batch_begin(step)\n\u001b[1;32m-> 1409\u001b[0m   tmp_logs \u001b[39m=\u001b[39m \u001b[39mself\u001b[39;49m\u001b[39m.\u001b[39;49mtrain_function(iterator)\n\u001b[0;32m   1410\u001b[0m   \u001b[39mif\u001b[39;00m data_handler\u001b[39m.\u001b[39mshould_sync:\n\u001b[0;32m   1411\u001b[0m     context\u001b[39m.\u001b[39masync_wait()\n",
      "File \u001b[1;32mc:\\Users\\ren-jing\\AppData\\Local\\Programs\\Python\\Python39\\lib\\site-packages\\tensorflow\\python\\util\\traceback_utils.py:150\u001b[0m, in \u001b[0;36mfilter_traceback.<locals>.error_handler\u001b[1;34m(*args, **kwargs)\u001b[0m\n\u001b[0;32m    148\u001b[0m filtered_tb \u001b[39m=\u001b[39m \u001b[39mNone\u001b[39;00m\n\u001b[0;32m    149\u001b[0m \u001b[39mtry\u001b[39;00m:\n\u001b[1;32m--> 150\u001b[0m   \u001b[39mreturn\u001b[39;00m fn(\u001b[39m*\u001b[39margs, \u001b[39m*\u001b[39m\u001b[39m*\u001b[39mkwargs)\n\u001b[0;32m    151\u001b[0m \u001b[39mexcept\u001b[39;00m \u001b[39mException\u001b[39;00m \u001b[39mas\u001b[39;00m e:\n\u001b[0;32m    152\u001b[0m   filtered_tb \u001b[39m=\u001b[39m _process_traceback_frames(e\u001b[39m.\u001b[39m__traceback__)\n",
      "File \u001b[1;32mc:\\Users\\ren-jing\\AppData\\Local\\Programs\\Python\\Python39\\lib\\site-packages\\tensorflow\\python\\eager\\def_function.py:915\u001b[0m, in \u001b[0;36mFunction.__call__\u001b[1;34m(self, *args, **kwds)\u001b[0m\n\u001b[0;32m    912\u001b[0m compiler \u001b[39m=\u001b[39m \u001b[39m\"\u001b[39m\u001b[39mxla\u001b[39m\u001b[39m\"\u001b[39m \u001b[39mif\u001b[39;00m \u001b[39mself\u001b[39m\u001b[39m.\u001b[39m_jit_compile \u001b[39melse\u001b[39;00m \u001b[39m\"\u001b[39m\u001b[39mnonXla\u001b[39m\u001b[39m\"\u001b[39m\n\u001b[0;32m    914\u001b[0m \u001b[39mwith\u001b[39;00m OptionalXlaContext(\u001b[39mself\u001b[39m\u001b[39m.\u001b[39m_jit_compile):\n\u001b[1;32m--> 915\u001b[0m   result \u001b[39m=\u001b[39m \u001b[39mself\u001b[39m\u001b[39m.\u001b[39m_call(\u001b[39m*\u001b[39margs, \u001b[39m*\u001b[39m\u001b[39m*\u001b[39mkwds)\n\u001b[0;32m    917\u001b[0m new_tracing_count \u001b[39m=\u001b[39m \u001b[39mself\u001b[39m\u001b[39m.\u001b[39mexperimental_get_tracing_count()\n\u001b[0;32m    918\u001b[0m without_tracing \u001b[39m=\u001b[39m (tracing_count \u001b[39m==\u001b[39m new_tracing_count)\n",
      "File \u001b[1;32mc:\\Users\\ren-jing\\AppData\\Local\\Programs\\Python\\Python39\\lib\\site-packages\\tensorflow\\python\\eager\\def_function.py:947\u001b[0m, in \u001b[0;36mFunction._call\u001b[1;34m(self, *args, **kwds)\u001b[0m\n\u001b[0;32m    944\u001b[0m   \u001b[39mself\u001b[39m\u001b[39m.\u001b[39m_lock\u001b[39m.\u001b[39mrelease()\n\u001b[0;32m    945\u001b[0m   \u001b[39m# In this case we have created variables on the first call, so we run the\u001b[39;00m\n\u001b[0;32m    946\u001b[0m   \u001b[39m# defunned version which is guaranteed to never create variables.\u001b[39;00m\n\u001b[1;32m--> 947\u001b[0m   \u001b[39mreturn\u001b[39;00m \u001b[39mself\u001b[39m\u001b[39m.\u001b[39m_stateless_fn(\u001b[39m*\u001b[39margs, \u001b[39m*\u001b[39m\u001b[39m*\u001b[39mkwds)  \u001b[39m# pylint: disable=not-callable\u001b[39;00m\n\u001b[0;32m    948\u001b[0m \u001b[39melif\u001b[39;00m \u001b[39mself\u001b[39m\u001b[39m.\u001b[39m_stateful_fn \u001b[39mis\u001b[39;00m \u001b[39mnot\u001b[39;00m \u001b[39mNone\u001b[39;00m:\n\u001b[0;32m    949\u001b[0m   \u001b[39m# Release the lock early so that multiple threads can perform the call\u001b[39;00m\n\u001b[0;32m    950\u001b[0m   \u001b[39m# in parallel.\u001b[39;00m\n\u001b[0;32m    951\u001b[0m   \u001b[39mself\u001b[39m\u001b[39m.\u001b[39m_lock\u001b[39m.\u001b[39mrelease()\n",
      "File \u001b[1;32mc:\\Users\\ren-jing\\AppData\\Local\\Programs\\Python\\Python39\\lib\\site-packages\\tensorflow\\python\\eager\\function.py:2453\u001b[0m, in \u001b[0;36mFunction.__call__\u001b[1;34m(self, *args, **kwargs)\u001b[0m\n\u001b[0;32m   2450\u001b[0m \u001b[39mwith\u001b[39;00m \u001b[39mself\u001b[39m\u001b[39m.\u001b[39m_lock:\n\u001b[0;32m   2451\u001b[0m   (graph_function,\n\u001b[0;32m   2452\u001b[0m    filtered_flat_args) \u001b[39m=\u001b[39m \u001b[39mself\u001b[39m\u001b[39m.\u001b[39m_maybe_define_function(args, kwargs)\n\u001b[1;32m-> 2453\u001b[0m \u001b[39mreturn\u001b[39;00m graph_function\u001b[39m.\u001b[39;49m_call_flat(\n\u001b[0;32m   2454\u001b[0m     filtered_flat_args, captured_inputs\u001b[39m=\u001b[39;49mgraph_function\u001b[39m.\u001b[39;49mcaptured_inputs)\n",
      "File \u001b[1;32mc:\\Users\\ren-jing\\AppData\\Local\\Programs\\Python\\Python39\\lib\\site-packages\\tensorflow\\python\\eager\\function.py:1860\u001b[0m, in \u001b[0;36mConcreteFunction._call_flat\u001b[1;34m(self, args, captured_inputs, cancellation_manager)\u001b[0m\n\u001b[0;32m   1856\u001b[0m possible_gradient_type \u001b[39m=\u001b[39m gradients_util\u001b[39m.\u001b[39mPossibleTapeGradientTypes(args)\n\u001b[0;32m   1857\u001b[0m \u001b[39mif\u001b[39;00m (possible_gradient_type \u001b[39m==\u001b[39m gradients_util\u001b[39m.\u001b[39mPOSSIBLE_GRADIENT_TYPES_NONE\n\u001b[0;32m   1858\u001b[0m     \u001b[39mand\u001b[39;00m executing_eagerly):\n\u001b[0;32m   1859\u001b[0m   \u001b[39m# No tape is watching; skip to running the function.\u001b[39;00m\n\u001b[1;32m-> 1860\u001b[0m   \u001b[39mreturn\u001b[39;00m \u001b[39mself\u001b[39m\u001b[39m.\u001b[39m_build_call_outputs(\u001b[39mself\u001b[39;49m\u001b[39m.\u001b[39;49m_inference_function\u001b[39m.\u001b[39;49mcall(\n\u001b[0;32m   1861\u001b[0m       ctx, args, cancellation_manager\u001b[39m=\u001b[39;49mcancellation_manager))\n\u001b[0;32m   1862\u001b[0m forward_backward \u001b[39m=\u001b[39m \u001b[39mself\u001b[39m\u001b[39m.\u001b[39m_select_forward_and_backward_functions(\n\u001b[0;32m   1863\u001b[0m     args,\n\u001b[0;32m   1864\u001b[0m     possible_gradient_type,\n\u001b[0;32m   1865\u001b[0m     executing_eagerly)\n\u001b[0;32m   1866\u001b[0m forward_function, args_with_tangents \u001b[39m=\u001b[39m forward_backward\u001b[39m.\u001b[39mforward()\n",
      "File \u001b[1;32mc:\\Users\\ren-jing\\AppData\\Local\\Programs\\Python\\Python39\\lib\\site-packages\\tensorflow\\python\\eager\\function.py:497\u001b[0m, in \u001b[0;36m_EagerDefinedFunction.call\u001b[1;34m(self, ctx, args, cancellation_manager)\u001b[0m\n\u001b[0;32m    495\u001b[0m \u001b[39mwith\u001b[39;00m _InterpolateFunctionError(\u001b[39mself\u001b[39m):\n\u001b[0;32m    496\u001b[0m   \u001b[39mif\u001b[39;00m cancellation_manager \u001b[39mis\u001b[39;00m \u001b[39mNone\u001b[39;00m:\n\u001b[1;32m--> 497\u001b[0m     outputs \u001b[39m=\u001b[39m execute\u001b[39m.\u001b[39;49mexecute(\n\u001b[0;32m    498\u001b[0m         \u001b[39mstr\u001b[39;49m(\u001b[39mself\u001b[39;49m\u001b[39m.\u001b[39;49msignature\u001b[39m.\u001b[39;49mname),\n\u001b[0;32m    499\u001b[0m         num_outputs\u001b[39m=\u001b[39;49m\u001b[39mself\u001b[39;49m\u001b[39m.\u001b[39;49m_num_outputs,\n\u001b[0;32m    500\u001b[0m         inputs\u001b[39m=\u001b[39;49margs,\n\u001b[0;32m    501\u001b[0m         attrs\u001b[39m=\u001b[39;49mattrs,\n\u001b[0;32m    502\u001b[0m         ctx\u001b[39m=\u001b[39;49mctx)\n\u001b[0;32m    503\u001b[0m   \u001b[39melse\u001b[39;00m:\n\u001b[0;32m    504\u001b[0m     outputs \u001b[39m=\u001b[39m execute\u001b[39m.\u001b[39mexecute_with_cancellation(\n\u001b[0;32m    505\u001b[0m         \u001b[39mstr\u001b[39m(\u001b[39mself\u001b[39m\u001b[39m.\u001b[39msignature\u001b[39m.\u001b[39mname),\n\u001b[0;32m    506\u001b[0m         num_outputs\u001b[39m=\u001b[39m\u001b[39mself\u001b[39m\u001b[39m.\u001b[39m_num_outputs,\n\u001b[1;32m   (...)\u001b[0m\n\u001b[0;32m    509\u001b[0m         ctx\u001b[39m=\u001b[39mctx,\n\u001b[0;32m    510\u001b[0m         cancellation_manager\u001b[39m=\u001b[39mcancellation_manager)\n",
      "File \u001b[1;32mc:\\Users\\ren-jing\\AppData\\Local\\Programs\\Python\\Python39\\lib\\site-packages\\tensorflow\\python\\eager\\execute.py:54\u001b[0m, in \u001b[0;36mquick_execute\u001b[1;34m(op_name, num_outputs, inputs, attrs, ctx, name)\u001b[0m\n\u001b[0;32m     52\u001b[0m \u001b[39mtry\u001b[39;00m:\n\u001b[0;32m     53\u001b[0m   ctx\u001b[39m.\u001b[39mensure_initialized()\n\u001b[1;32m---> 54\u001b[0m   tensors \u001b[39m=\u001b[39m pywrap_tfe\u001b[39m.\u001b[39;49mTFE_Py_Execute(ctx\u001b[39m.\u001b[39;49m_handle, device_name, op_name,\n\u001b[0;32m     55\u001b[0m                                       inputs, attrs, num_outputs)\n\u001b[0;32m     56\u001b[0m \u001b[39mexcept\u001b[39;00m core\u001b[39m.\u001b[39m_NotOkStatusException \u001b[39mas\u001b[39;00m e:\n\u001b[0;32m     57\u001b[0m   \u001b[39mif\u001b[39;00m name \u001b[39mis\u001b[39;00m \u001b[39mnot\u001b[39;00m \u001b[39mNone\u001b[39;00m:\n",
      "\u001b[1;31mKeyboardInterrupt\u001b[0m: "
     ]
    }
   ],
   "source": [
    "session_num = 1\n",
    "# 設定儲存權重目錄\n",
    "model_dir = 'lab5-logs/models/'\n",
    "try:\n",
    "    os.makedirs(model_dir)\n",
    "except:\n",
    "    pass\n",
    "# 設定要測試的三種初始化方法\n",
    "weights_initialization_list = [initializers.RandomNormal(0, 0.01),\n",
    "                        initializers.glorot_normal(),\n",
    "                        initializers.he_normal()]\n",
    "\n",
    "for init in weights_initialization_list:\n",
    "    print('--- Running training session %d' % (session_num))\n",
    "    run_name = \"run-%d\" % session_num\n",
    "    build_and_train_model(run_name, init)  # 創建和訓練網路\n",
    "    session_num += 1"
   ]
  },
  {
   "cell_type": "markdown",
   "metadata": {},
   "source": [
    "### 比較三種初始化的訓練結果"
   ]
  },
  {
   "cell_type": "code",
   "execution_count": 20,
   "metadata": {},
   "outputs": [
    {
     "name": "stdout",
     "output_type": "stream",
     "text": [
      "157/157 [==============================] - 9s 54ms/step - loss: 2.3026 - categorical_accuracy: 0.1000\n",
      "157/157 [==============================] - 8s 49ms/step - loss: 0.6210 - categorical_accuracy: 0.8026\n",
      "157/157 [==============================] - 9s 56ms/step - loss: 0.6353 - categorical_accuracy: 0.8051\n"
     ]
    }
   ],
   "source": [
    "model_1 = keras.models.load_model('lab5-logs/models/run-1-best-model.h5')\n",
    "model_2 = keras.models.load_model('lab5-logs/models/run-2-best-model.h5')\n",
    "model_3 = keras.models.load_model('lab5-logs/models/run-3-best-model.h5')\n",
    "loss_1, acc_1 = model_1.evaluate(test_data)\n",
    "loss_2, acc_2 = model_2.evaluate(test_data)\n",
    "loss_3, acc_3 = model_3.evaluate(test_data)"
   ]
  },
  {
   "cell_type": "markdown",
   "metadata": {},
   "source": [
    "顯示預測的損失值與準確度結果："
   ]
  },
  {
   "cell_type": "code",
   "execution_count": 21,
   "metadata": {},
   "outputs": [
    {
     "data": {
      "text/html": [
       "<div>\n",
       "<style scoped>\n",
       "    .dataframe tbody tr th:only-of-type {\n",
       "        vertical-align: middle;\n",
       "    }\n",
       "\n",
       "    .dataframe tbody tr th {\n",
       "        vertical-align: top;\n",
       "    }\n",
       "\n",
       "    .dataframe thead th {\n",
       "        text-align: right;\n",
       "    }\n",
       "</style>\n",
       "<table border=\"1\" class=\"dataframe\">\n",
       "  <thead>\n",
       "    <tr style=\"text-align: right;\">\n",
       "      <th></th>\n",
       "      <th>Loss</th>\n",
       "      <th>Accuracy</th>\n",
       "    </tr>\n",
       "  </thead>\n",
       "  <tbody>\n",
       "    <tr>\n",
       "      <th>0</th>\n",
       "      <td>2.302632</td>\n",
       "      <td>0.1000</td>\n",
       "    </tr>\n",
       "    <tr>\n",
       "      <th>1</th>\n",
       "      <td>0.620969</td>\n",
       "      <td>0.8026</td>\n",
       "    </tr>\n",
       "    <tr>\n",
       "      <th>2</th>\n",
       "      <td>0.635294</td>\n",
       "      <td>0.8051</td>\n",
       "    </tr>\n",
       "  </tbody>\n",
       "</table>\n",
       "</div>"
      ],
      "text/plain": [
       "       Loss  Accuracy\n",
       "0  2.302632    0.1000\n",
       "1  0.620969    0.8026\n",
       "2  0.635294    0.8051"
      ]
     },
     "execution_count": 21,
     "metadata": {},
     "output_type": "execute_result"
    }
   ],
   "source": [
    "loss = [loss_1, loss_2, loss_3]  \n",
    "acc = [acc_1, acc_2, acc_3]\n",
    "\n",
    "dict = {\"Loss\": loss,  \n",
    "        \"Accuracy\": acc}\n",
    "\n",
    "df = pd.DataFrame(dict)\n",
    "df"
   ]
  },
  {
   "cell_type": "markdown",
   "metadata": {},
   "source": [
    "# 實驗二：使用CIFAR-10數據集實驗Batch Normalization方法"
   ]
  },
  {
   "cell_type": "markdown",
   "metadata": {},
   "source": [
    "建立網路模型，這邊使用到以下幾種網路層：\n",
    "- keras.Input：輸入層(輸入影像大小為32x32x3)\n",
    "- layers.Conv2D：卷積層(使用3x3大小的kernel)\n",
    "- layers.BatchNormalization：BatchNormalization層(使用預設參數)\n",
    "- layers.ReLU：ReLU激活函數層(使用在BatchNormalization層之後)\n",
    "- layers.MaxPool2D：池化層(對特徵圖下採樣)\n",
    "- layers.Flatten：扁平層(特徵圖轉成一維Tensor)\n",
    "- layers.Dropout：Dropout層(每次訓練隨機丟棄50%網路)\n",
    "- layers.Dense：全連接層(隱藏層使用ReLU激活函數，輸出層使用Softmax激活函數)\n",
    "\n",
    "因為大部分激活函數都會在BatchNormalization之後，所以這邊的搭建與前幾個model有些差別。"
   ]
  },
  {
   "cell_type": "code",
   "execution_count": 22,
   "metadata": {
    "scrolled": false
   },
   "outputs": [
    {
     "name": "stdout",
     "output_type": "stream",
     "text": [
      "Model: \"model-4\"\n",
      "_________________________________________________________________\n",
      " Layer (type)                Output Shape              Param #   \n",
      "=================================================================\n",
      " input_7 (InputLayer)        [(None, 32, 32, 3)]       0         \n",
      "                                                                 \n",
      " conv2d_5 (Conv2D)           (None, 30, 30, 64)        1792      \n",
      "                                                                 \n",
      " batch_normalization (BatchN  (None, 30, 30, 64)       256       \n",
      " ormalization)                                                   \n",
      "                                                                 \n",
      " re_lu (ReLU)                (None, 30, 30, 64)        0         \n",
      "                                                                 \n",
      " max_pooling2d_1 (MaxPooling  (None, 15, 15, 64)       0         \n",
      " 2D)                                                             \n",
      "                                                                 \n",
      " conv2d_6 (Conv2D)           (None, 13, 13, 128)       73856     \n",
      "                                                                 \n",
      " batch_normalization_1 (Batc  (None, 13, 13, 128)      512       \n",
      " hNormalization)                                                 \n",
      "                                                                 \n",
      " re_lu_1 (ReLU)              (None, 13, 13, 128)       0         \n",
      "                                                                 \n",
      " conv2d_7 (Conv2D)           (None, 11, 11, 256)       295168    \n",
      "                                                                 \n",
      " batch_normalization_2 (Batc  (None, 11, 11, 256)      1024      \n",
      " hNormalization)                                                 \n",
      "                                                                 \n",
      " re_lu_2 (ReLU)              (None, 11, 11, 256)       0         \n",
      "                                                                 \n",
      " conv2d_8 (Conv2D)           (None, 9, 9, 128)         295040    \n",
      "                                                                 \n",
      " batch_normalization_3 (Batc  (None, 9, 9, 128)        512       \n",
      " hNormalization)                                                 \n",
      "                                                                 \n",
      " re_lu_3 (ReLU)              (None, 9, 9, 128)         0         \n",
      "                                                                 \n",
      " conv2d_9 (Conv2D)           (None, 7, 7, 64)          73792     \n",
      "                                                                 \n",
      " batch_normalization_4 (Batc  (None, 7, 7, 64)         256       \n",
      " hNormalization)                                                 \n",
      "                                                                 \n",
      " re_lu_4 (ReLU)              (None, 7, 7, 64)          0         \n",
      "                                                                 \n",
      " flatten_1 (Flatten)         (None, 3136)              0         \n",
      "                                                                 \n",
      " dense_27 (Dense)            (None, 64)                200768    \n",
      "                                                                 \n",
      " batch_normalization_5 (Batc  (None, 64)               256       \n",
      " hNormalization)                                                 \n",
      "                                                                 \n",
      " re_lu_5 (ReLU)              (None, 64)                0         \n",
      "                                                                 \n",
      " dropout_1 (Dropout)         (None, 64)                0         \n",
      "                                                                 \n",
      " dense_28 (Dense)            (None, 10)                650       \n",
      "                                                                 \n",
      "=================================================================\n",
      "Total params: 943,882\n",
      "Trainable params: 942,474\n",
      "Non-trainable params: 1,408\n",
      "_________________________________________________________________\n"
     ]
    }
   ],
   "source": [
    "inputs = keras.Input(shape=(32, 32, 3))\n",
    "x = layers.Conv2D(64, (3, 3))(inputs)\n",
    "x = layers.BatchNormalization()(x)\n",
    "x = layers.ReLU()(x)\n",
    "x = layers.MaxPool2D()(x)\n",
    "x = layers.Conv2D(128, (3, 3))(x)\n",
    "x = layers.BatchNormalization()(x)\n",
    "x = layers.ReLU()(x)\n",
    "x = layers.Conv2D(256, (3, 3))(x)\n",
    "x = layers.BatchNormalization()(x)\n",
    "x = layers.ReLU()(x)\n",
    "x = layers.Conv2D(128, (3, 3))(x)\n",
    "x = layers.BatchNormalization()(x)\n",
    "x = layers.ReLU()(x)\n",
    "x = layers.Conv2D(64, (3, 3))(x)\n",
    "x = layers.BatchNormalization()(x)\n",
    "x = layers.ReLU()(x)\n",
    "x = layers.Flatten()(x)\n",
    "x = layers.Dense(64)(x)\n",
    "x = layers.BatchNormalization()(x)\n",
    "x = layers.ReLU()(x)\n",
    "x = layers.Dropout(0.5)(x)\n",
    "outputs = layers.Dense(10, activation='softmax')(x)\n",
    "# 建立網路模型(將輸入到輸出所有經過的網路層連接起來)\n",
    "model_4 = keras.Model(inputs, outputs, name='model-4')\n",
    "model_4.summary()  # 顯示網路架構"
   ]
  },
  {
   "cell_type": "markdown",
   "metadata": {},
   "source": [
    "建立Callback function："
   ]
  },
  {
   "cell_type": "code",
   "execution_count": 23,
   "metadata": {},
   "outputs": [],
   "source": [
    "# 儲存訓練記錄檔\n",
    "log_dir = os.path.join('lab5-logs', 'run-4-batchnormalization')\n",
    "model_cbk = keras.callbacks.TensorBoard(log_dir=log_dir)\n",
    "# 儲存最好的網路模型權重\n",
    "model_mckp = keras.callbacks.ModelCheckpoint(model_dir + '/run-4-best-model.h5', \n",
    "                                             monitor='val_categorical_accuracy', \n",
    "                                             save_best_only=True, \n",
    "                                             mode='max')"
   ]
  },
  {
   "cell_type": "markdown",
   "metadata": {},
   "source": [
    "設定訓練使用的優化器、損失函數和指標函數"
   ]
  },
  {
   "cell_type": "code",
   "execution_count": 24,
   "metadata": {},
   "outputs": [],
   "source": [
    "model_4.compile(keras.optimizers.Adam(), \n",
    "               loss=keras.losses.CategoricalCrossentropy(), \n",
    "               metrics=[keras.metrics.CategoricalAccuracy()])"
   ]
  },
  {
   "cell_type": "markdown",
   "metadata": {},
   "source": [
    "訓練網路模型"
   ]
  },
  {
   "cell_type": "code",
   "execution_count": null,
   "metadata": {
    "scrolled": true
   },
   "outputs": [
    {
     "name": "stdout",
     "output_type": "stream",
     "text": [
      "Epoch 1/100\n",
      "704/704 [==============================] - 35s 50ms/step - loss: 1.8649 - categorical_accuracy: 0.3316 - val_loss: 0.0000e+00 - val_categorical_accuracy: 0.0000e+00\n",
      "Epoch 2/100\n",
      "704/704 [==============================] - 27s 39ms/step - loss: 1.5226 - categorical_accuracy: 0.4618 - val_loss: 1.6555 - val_categorical_accuracy: 0.4566\n",
      "Epoch 3/100\n",
      "704/704 [==============================] - 28s 40ms/step - loss: 1.3684 - categorical_accuracy: 0.5218 - val_loss: 1.2505 - val_categorical_accuracy: 0.5728\n",
      "Epoch 4/100\n",
      "704/704 [==============================] - 27s 38ms/step - loss: 1.2729 - categorical_accuracy: 0.5578 - val_loss: 1.1574 - val_categorical_accuracy: 0.5860\n",
      "Epoch 5/100\n",
      "704/704 [==============================] - 28s 39ms/step - loss: 1.1960 - categorical_accuracy: 0.5859 - val_loss: 1.4321 - val_categorical_accuracy: 0.5130\n",
      "Epoch 6/100\n",
      "704/704 [==============================] - 28s 39ms/step - loss: 1.1375 - categorical_accuracy: 0.6075 - val_loss: 1.0611 - val_categorical_accuracy: 0.6346\n",
      "Epoch 7/100\n",
      "704/704 [==============================] - 27s 39ms/step - loss: 1.0846 - categorical_accuracy: 0.6280 - val_loss: 1.0341 - val_categorical_accuracy: 0.6208\n",
      "Epoch 8/100\n",
      "704/704 [==============================] - 30s 43ms/step - loss: 1.0481 - categorical_accuracy: 0.6413 - val_loss: 0.8569 - val_categorical_accuracy: 0.6954\n",
      "Epoch 9/100\n",
      "704/704 [==============================] - 29s 41ms/step - loss: 1.0053 - categorical_accuracy: 0.6554 - val_loss: 0.9377 - val_categorical_accuracy: 0.6692\n",
      "Epoch 10/100\n",
      "704/704 [==============================] - 26s 36ms/step - loss: 0.9693 - categorical_accuracy: 0.6698 - val_loss: 0.8247 - val_categorical_accuracy: 0.7148\n",
      "Epoch 11/100\n",
      "704/704 [==============================] - 26s 37ms/step - loss: 0.9392 - categorical_accuracy: 0.6818 - val_loss: 1.6445 - val_categorical_accuracy: 0.5478\n",
      "Epoch 12/100\n",
      "704/704 [==============================] - 26s 37ms/step - loss: 0.9087 - categorical_accuracy: 0.6905 - val_loss: 0.7208 - val_categorical_accuracy: 0.7410\n",
      "Epoch 13/100\n",
      "704/704 [==============================] - 27s 38ms/step - loss: 0.8872 - categorical_accuracy: 0.6990 - val_loss: 0.8320 - val_categorical_accuracy: 0.7232\n",
      "Epoch 14/100\n",
      "704/704 [==============================] - 29s 41ms/step - loss: 0.8544 - categorical_accuracy: 0.7111 - val_loss: 0.6421 - val_categorical_accuracy: 0.7710\n",
      "Epoch 15/100\n",
      "704/704 [==============================] - 26s 38ms/step - loss: 0.8391 - categorical_accuracy: 0.7172 - val_loss: 0.6561 - val_categorical_accuracy: 0.7752\n",
      "Epoch 16/100\n",
      "704/704 [==============================] - 26s 37ms/step - loss: 0.8182 - categorical_accuracy: 0.7253 - val_loss: 0.9571 - val_categorical_accuracy: 0.6820\n",
      "Epoch 17/100\n",
      "704/704 [==============================] - 26s 37ms/step - loss: 0.7957 - categorical_accuracy: 0.7331 - val_loss: 0.6708 - val_categorical_accuracy: 0.7720\n",
      "Epoch 18/100\n",
      "704/704 [==============================] - 26s 37ms/step - loss: 0.7871 - categorical_accuracy: 0.7333 - val_loss: 0.7527 - val_categorical_accuracy: 0.7496\n",
      "Epoch 19/100\n",
      "704/704 [==============================] - 26s 37ms/step - loss: 0.7668 - categorical_accuracy: 0.7441 - val_loss: 0.6277 - val_categorical_accuracy: 0.7848\n",
      "Epoch 20/100\n",
      "704/704 [==============================] - 27s 38ms/step - loss: 0.7571 - categorical_accuracy: 0.7477 - val_loss: 1.0910 - val_categorical_accuracy: 0.6634\n",
      "Epoch 21/100\n",
      "704/704 [==============================] - 27s 38ms/step - loss: 0.7478 - categorical_accuracy: 0.7515 - val_loss: 0.5557 - val_categorical_accuracy: 0.8134\n",
      "Epoch 22/100\n",
      "704/704 [==============================] - 26s 37ms/step - loss: 0.7272 - categorical_accuracy: 0.7560 - val_loss: 0.8869 - val_categorical_accuracy: 0.7330\n",
      "Epoch 23/100\n",
      "704/704 [==============================] - 26s 36ms/step - loss: 0.7169 - categorical_accuracy: 0.7595 - val_loss: 0.6481 - val_categorical_accuracy: 0.7866\n",
      "Epoch 24/100\n",
      "704/704 [==============================] - 26s 37ms/step - loss: 0.7055 - categorical_accuracy: 0.7635 - val_loss: 0.5737 - val_categorical_accuracy: 0.8124\n",
      "Epoch 25/100\n",
      "704/704 [==============================] - 26s 37ms/step - loss: 0.6937 - categorical_accuracy: 0.7693 - val_loss: 0.5794 - val_categorical_accuracy: 0.8024\n",
      "Epoch 26/100\n",
      "704/704 [==============================] - 26s 37ms/step - loss: 0.6827 - categorical_accuracy: 0.7718 - val_loss: 0.5057 - val_categorical_accuracy: 0.8350\n",
      "Epoch 27/100\n",
      "704/704 [==============================] - 26s 37ms/step - loss: 0.6701 - categorical_accuracy: 0.7770 - val_loss: 0.7679 - val_categorical_accuracy: 0.7354\n",
      "Epoch 28/100\n",
      "704/704 [==============================] - 26s 36ms/step - loss: 0.6606 - categorical_accuracy: 0.7792 - val_loss: 0.5546 - val_categorical_accuracy: 0.8156\n",
      "Epoch 29/100\n",
      "704/704 [==============================] - 26s 37ms/step - loss: 0.6588 - categorical_accuracy: 0.7822 - val_loss: 0.5721 - val_categorical_accuracy: 0.8022\n",
      "Epoch 30/100\n",
      "704/704 [==============================] - 26s 37ms/step - loss: 0.6541 - categorical_accuracy: 0.7846 - val_loss: 0.8351 - val_categorical_accuracy: 0.7388\n",
      "Epoch 31/100\n",
      "704/704 [==============================] - 26s 36ms/step - loss: 0.6431 - categorical_accuracy: 0.7865 - val_loss: 0.5178 - val_categorical_accuracy: 0.8208\n",
      "Epoch 32/100\n",
      "704/704 [==============================] - 23s 32ms/step - loss: 0.6373 - categorical_accuracy: 0.7902 - val_loss: 1.0449 - val_categorical_accuracy: 0.6690\n",
      "Epoch 33/100\n",
      "704/704 [==============================] - 16s 23ms/step - loss: 0.6280 - categorical_accuracy: 0.7932 - val_loss: 0.4801 - val_categorical_accuracy: 0.8400\n",
      "Epoch 34/100\n",
      "704/704 [==============================] - 16s 23ms/step - loss: 0.6163 - categorical_accuracy: 0.7952 - val_loss: 0.6885 - val_categorical_accuracy: 0.7788\n",
      "Epoch 35/100\n",
      "704/704 [==============================] - 16s 23ms/step - loss: 0.6135 - categorical_accuracy: 0.7971 - val_loss: 0.6422 - val_categorical_accuracy: 0.7804\n",
      "Epoch 36/100\n",
      "704/704 [==============================] - 16s 23ms/step - loss: 0.6077 - categorical_accuracy: 0.8012 - val_loss: 0.8049 - val_categorical_accuracy: 0.7472\n",
      "Epoch 37/100\n",
      "704/704 [==============================] - 16s 23ms/step - loss: 0.6033 - categorical_accuracy: 0.7993 - val_loss: 0.5178 - val_categorical_accuracy: 0.8274\n",
      "Epoch 38/100\n",
      "704/704 [==============================] - 16s 23ms/step - loss: 0.6012 - categorical_accuracy: 0.8022 - val_loss: 0.6890 - val_categorical_accuracy: 0.7854\n",
      "Epoch 39/100\n",
      "704/704 [==============================] - 16s 23ms/step - loss: 0.5885 - categorical_accuracy: 0.8062 - val_loss: 0.5320 - val_categorical_accuracy: 0.8264\n",
      "Epoch 40/100\n",
      "704/704 [==============================] - 17s 24ms/step - loss: 0.5795 - categorical_accuracy: 0.8069 - val_loss: 0.5735 - val_categorical_accuracy: 0.8154\n",
      "Epoch 41/100\n",
      "704/704 [==============================] - 17s 24ms/step - loss: 0.5749 - categorical_accuracy: 0.8114 - val_loss: 0.6230 - val_categorical_accuracy: 0.7952\n",
      "Epoch 42/100\n",
      "704/704 [==============================] - 16s 23ms/step - loss: 0.5788 - categorical_accuracy: 0.8074 - val_loss: 0.4764 - val_categorical_accuracy: 0.8406\n",
      "Epoch 43/100\n",
      "704/704 [==============================] - 16s 23ms/step - loss: 0.5665 - categorical_accuracy: 0.8133 - val_loss: 0.5662 - val_categorical_accuracy: 0.8208\n",
      "Epoch 44/100\n",
      "704/704 [==============================] - 16s 23ms/step - loss: 0.5702 - categorical_accuracy: 0.8134 - val_loss: 0.5433 - val_categorical_accuracy: 0.8204\n",
      "Epoch 45/100\n",
      "704/704 [==============================] - 16s 23ms/step - loss: 0.5588 - categorical_accuracy: 0.8157 - val_loss: 0.5772 - val_categorical_accuracy: 0.8110\n",
      "Epoch 46/100\n",
      "704/704 [==============================] - 16s 23ms/step - loss: 0.5540 - categorical_accuracy: 0.8162 - val_loss: 0.5417 - val_categorical_accuracy: 0.8198\n",
      "Epoch 47/100\n",
      "704/704 [==============================] - 16s 23ms/step - loss: 0.5467 - categorical_accuracy: 0.8226 - val_loss: 0.6672 - val_categorical_accuracy: 0.7914\n",
      "Epoch 48/100\n",
      "704/704 [==============================] - 17s 24ms/step - loss: 0.5485 - categorical_accuracy: 0.8173 - val_loss: 0.4469 - val_categorical_accuracy: 0.8536\n",
      "Epoch 49/100\n",
      "704/704 [==============================] - 16s 23ms/step - loss: 0.5350 - categorical_accuracy: 0.8256 - val_loss: 0.5297 - val_categorical_accuracy: 0.8330\n",
      "Epoch 50/100\n",
      "704/704 [==============================] - 16s 23ms/step - loss: 0.5363 - categorical_accuracy: 0.8217 - val_loss: 0.4864 - val_categorical_accuracy: 0.8440\n",
      "Epoch 51/100\n",
      "704/704 [==============================] - 16s 23ms/step - loss: 0.5346 - categorical_accuracy: 0.8238 - val_loss: 0.4659 - val_categorical_accuracy: 0.8428\n",
      "Epoch 52/100\n",
      "704/704 [==============================] - 16s 23ms/step - loss: 0.5244 - categorical_accuracy: 0.8289 - val_loss: 0.6037 - val_categorical_accuracy: 0.8122\n",
      "Epoch 53/100\n",
      "704/704 [==============================] - 16s 23ms/step - loss: 0.5198 - categorical_accuracy: 0.8307 - val_loss: 0.5592 - val_categorical_accuracy: 0.8156\n",
      "Epoch 54/100\n",
      "704/704 [==============================] - 16s 23ms/step - loss: 0.5211 - categorical_accuracy: 0.8290 - val_loss: 0.5132 - val_categorical_accuracy: 0.8304\n",
      "Epoch 55/100\n",
      "704/704 [==============================] - 16s 23ms/step - loss: 0.5232 - categorical_accuracy: 0.8285 - val_loss: 0.4269 - val_categorical_accuracy: 0.8650\n",
      "Epoch 56/100\n",
      "704/704 [==============================] - 16s 23ms/step - loss: 0.5105 - categorical_accuracy: 0.8333 - val_loss: 0.5036 - val_categorical_accuracy: 0.8452\n",
      "Epoch 57/100\n",
      "704/704 [==============================] - 16s 23ms/step - loss: 0.5082 - categorical_accuracy: 0.8348 - val_loss: 0.5357 - val_categorical_accuracy: 0.8240\n",
      "Epoch 58/100\n",
      "704/704 [==============================] - 16s 23ms/step - loss: 0.5051 - categorical_accuracy: 0.8353 - val_loss: 0.4506 - val_categorical_accuracy: 0.8512\n",
      "Epoch 59/100\n",
      "704/704 [==============================] - 16s 23ms/step - loss: 0.4945 - categorical_accuracy: 0.8390 - val_loss: 0.6119 - val_categorical_accuracy: 0.8132\n",
      "Epoch 60/100\n",
      "704/704 [==============================] - 16s 23ms/step - loss: 0.5018 - categorical_accuracy: 0.8359 - val_loss: 0.4665 - val_categorical_accuracy: 0.8470\n",
      "Epoch 61/100\n",
      "704/704 [==============================] - 16s 23ms/step - loss: 0.4870 - categorical_accuracy: 0.8423 - val_loss: 0.4297 - val_categorical_accuracy: 0.8592\n",
      "Epoch 62/100\n",
      "704/704 [==============================] - 16s 23ms/step - loss: 0.4939 - categorical_accuracy: 0.8392 - val_loss: 0.5323 - val_categorical_accuracy: 0.8310\n",
      "Epoch 63/100\n",
      "704/704 [==============================] - 16s 23ms/step - loss: 0.4880 - categorical_accuracy: 0.8424 - val_loss: 0.4922 - val_categorical_accuracy: 0.8436\n",
      "Epoch 64/100\n",
      "704/704 [==============================] - 16s 23ms/step - loss: 0.4811 - categorical_accuracy: 0.8419 - val_loss: 0.5400 - val_categorical_accuracy: 0.8336\n",
      "Epoch 65/100\n",
      "704/704 [==============================] - 16s 23ms/step - loss: 0.4832 - categorical_accuracy: 0.8402 - val_loss: 0.6637 - val_categorical_accuracy: 0.8002\n",
      "Epoch 66/100\n",
      "704/704 [==============================] - 16s 23ms/step - loss: 0.4841 - categorical_accuracy: 0.8411 - val_loss: 0.5570 - val_categorical_accuracy: 0.8236\n",
      "Epoch 67/100\n",
      "704/704 [==============================] - 16s 23ms/step - loss: 0.4688 - categorical_accuracy: 0.8460 - val_loss: 0.5216 - val_categorical_accuracy: 0.8390\n",
      "Epoch 68/100\n",
      "704/704 [==============================] - 16s 23ms/step - loss: 0.4762 - categorical_accuracy: 0.8455 - val_loss: 0.4297 - val_categorical_accuracy: 0.8630\n",
      "Epoch 69/100\n",
      "704/704 [==============================] - 16s 23ms/step - loss: 0.4622 - categorical_accuracy: 0.8513 - val_loss: 0.5321 - val_categorical_accuracy: 0.8286\n",
      "Epoch 70/100\n",
      "704/704 [==============================] - 16s 23ms/step - loss: 0.4670 - categorical_accuracy: 0.8476 - val_loss: 0.5294 - val_categorical_accuracy: 0.8368\n",
      "Epoch 71/100\n",
      "704/704 [==============================] - 16s 23ms/step - loss: 0.4724 - categorical_accuracy: 0.8479 - val_loss: 0.4708 - val_categorical_accuracy: 0.8460\n",
      "Epoch 72/100\n",
      "704/704 [==============================] - 16s 23ms/step - loss: 0.4657 - categorical_accuracy: 0.8467 - val_loss: 0.4425 - val_categorical_accuracy: 0.8628\n",
      "Epoch 73/100\n",
      "704/704 [==============================] - 16s 23ms/step - loss: 0.4643 - categorical_accuracy: 0.8490 - val_loss: 0.5231 - val_categorical_accuracy: 0.8340\n",
      "Epoch 74/100\n",
      "704/704 [==============================] - 16s 23ms/step - loss: 0.4625 - categorical_accuracy: 0.8496 - val_loss: 0.5414 - val_categorical_accuracy: 0.8292\n",
      "Epoch 75/100\n",
      "704/704 [==============================] - 16s 23ms/step - loss: 0.4570 - categorical_accuracy: 0.8503 - val_loss: 0.4916 - val_categorical_accuracy: 0.8510\n",
      "Epoch 76/100\n",
      "704/704 [==============================] - 16s 23ms/step - loss: 0.4524 - categorical_accuracy: 0.8517 - val_loss: 0.4418 - val_categorical_accuracy: 0.8584\n",
      "Epoch 77/100\n",
      "704/704 [==============================] - 16s 23ms/step - loss: 0.4492 - categorical_accuracy: 0.8505 - val_loss: 0.4948 - val_categorical_accuracy: 0.8452\n",
      "Epoch 78/100\n",
      "704/704 [==============================] - 16s 23ms/step - loss: 0.4518 - categorical_accuracy: 0.8531 - val_loss: 0.5153 - val_categorical_accuracy: 0.8432\n",
      "Epoch 79/100\n",
      "704/704 [==============================] - 16s 23ms/step - loss: 0.4491 - categorical_accuracy: 0.8558 - val_loss: 0.4212 - val_categorical_accuracy: 0.8714\n",
      "Epoch 80/100\n",
      "704/704 [==============================] - 16s 23ms/step - loss: 0.4512 - categorical_accuracy: 0.8508 - val_loss: 0.4321 - val_categorical_accuracy: 0.8636\n",
      "Epoch 81/100\n",
      "704/704 [==============================] - 16s 23ms/step - loss: 0.4436 - categorical_accuracy: 0.8550 - val_loss: 0.4854 - val_categorical_accuracy: 0.8440\n",
      "Epoch 82/100\n",
      "704/704 [==============================] - 16s 23ms/step - loss: 0.4436 - categorical_accuracy: 0.8536 - val_loss: 0.4290 - val_categorical_accuracy: 0.8642\n",
      "Epoch 83/100\n",
      "704/704 [==============================] - 16s 23ms/step - loss: 0.4462 - categorical_accuracy: 0.8549 - val_loss: 0.6087 - val_categorical_accuracy: 0.8136\n",
      "Epoch 84/100\n",
      "704/704 [==============================] - 16s 23ms/step - loss: 0.4364 - categorical_accuracy: 0.8576 - val_loss: 0.4460 - val_categorical_accuracy: 0.8558\n",
      "Epoch 85/100\n",
      "704/704 [==============================] - 16s 23ms/step - loss: 0.4291 - categorical_accuracy: 0.8616 - val_loss: 0.4720 - val_categorical_accuracy: 0.8518\n",
      "Epoch 86/100\n",
      "704/704 [==============================] - 16s 23ms/step - loss: 0.4383 - categorical_accuracy: 0.8583 - val_loss: 0.5273 - val_categorical_accuracy: 0.8454\n",
      "Epoch 87/100\n",
      "704/704 [==============================] - 16s 23ms/step - loss: 0.4263 - categorical_accuracy: 0.8609 - val_loss: 0.4722 - val_categorical_accuracy: 0.8564\n",
      "Epoch 88/100\n",
      "704/704 [==============================] - 16s 23ms/step - loss: 0.4327 - categorical_accuracy: 0.8589 - val_loss: 0.5422 - val_categorical_accuracy: 0.8334\n",
      "Epoch 89/100\n",
      "704/704 [==============================] - 16s 23ms/step - loss: 0.4274 - categorical_accuracy: 0.8610 - val_loss: 0.4620 - val_categorical_accuracy: 0.8524\n",
      "Epoch 90/100\n",
      "704/704 [==============================] - 16s 23ms/step - loss: 0.4263 - categorical_accuracy: 0.8622 - val_loss: 0.4412 - val_categorical_accuracy: 0.8628\n",
      "Epoch 91/100\n",
      "704/704 [==============================] - 16s 23ms/step - loss: 0.4317 - categorical_accuracy: 0.8600 - val_loss: 0.4242 - val_categorical_accuracy: 0.8684\n",
      "Epoch 92/100\n",
      "704/704 [==============================] - 16s 23ms/step - loss: 0.4215 - categorical_accuracy: 0.8623 - val_loss: 0.4380 - val_categorical_accuracy: 0.8620\n",
      "Epoch 93/100\n",
      "704/704 [==============================] - 16s 23ms/step - loss: 0.4165 - categorical_accuracy: 0.8657 - val_loss: 0.5091 - val_categorical_accuracy: 0.8486\n",
      "Epoch 94/100\n",
      "704/704 [==============================] - 16s 23ms/step - loss: 0.4123 - categorical_accuracy: 0.8636 - val_loss: 0.5373 - val_categorical_accuracy: 0.8382\n",
      "Epoch 95/100\n",
      "704/704 [==============================] - 16s 23ms/step - loss: 0.4183 - categorical_accuracy: 0.8644 - val_loss: 0.4958 - val_categorical_accuracy: 0.8496\n",
      "Epoch 96/100\n",
      "704/704 [==============================] - 16s 23ms/step - loss: 0.4120 - categorical_accuracy: 0.8666 - val_loss: 0.4184 - val_categorical_accuracy: 0.8740\n",
      "Epoch 97/100\n"
     ]
    },
    {
     "name": "stdout",
     "output_type": "stream",
     "text": [
      "704/704 [==============================] - 16s 23ms/step - loss: 0.4111 - categorical_accuracy: 0.8665 - val_loss: 0.4669 - val_categorical_accuracy: 0.8660\n",
      "Epoch 98/100\n",
      "704/704 [==============================] - 16s 23ms/step - loss: 0.4177 - categorical_accuracy: 0.8646 - val_loss: 0.4314 - val_categorical_accuracy: 0.8632\n",
      "Epoch 99/100\n",
      "704/704 [==============================] - 16s 23ms/step - loss: 0.4173 - categorical_accuracy: 0.8634 - val_loss: 0.5266 - val_categorical_accuracy: 0.8440\n",
      "Epoch 100/100\n",
      "704/704 [==============================] - 16s 23ms/step - loss: 0.4050 - categorical_accuracy: 0.8680 - val_loss: 0.4620 - val_categorical_accuracy: 0.8510\n"
     ]
    }
   ],
   "source": [
    "history_4 = model_4.fit(train_data,\n",
    "                        epochs=100, \n",
    "                        validation_data=valid_data,\n",
    "                        callbacks=[model_cbk, model_mckp])"
   ]
  },
  {
   "cell_type": "markdown",
   "metadata": {},
   "source": [
    "驗證在測試集上："
   ]
  },
  {
   "cell_type": "code",
   "execution_count": 25,
   "metadata": {},
   "outputs": [
    {
     "name": "stdout",
     "output_type": "stream",
     "text": [
      "157/157 [==============================] - 10s 65ms/step - loss: 0.4374 - categorical_accuracy: 0.8599\n",
      "\n",
      "Model-4 Accuracy: 0.8598999977111816%\n"
     ]
    }
   ],
   "source": [
    "model_4 = keras.models.load_model('lab5-logs/models/run-4-best-model.h5')\n",
    "loss, acc = model_4.evaluate(test_data)\n",
    "print('\\nModel-4 Accuracy: {}%'.format(acc))"
   ]
  },
  {
   "cell_type": "markdown",
   "metadata": {},
   "source": [
    "### 比較四種網路的訓練結果"
   ]
  },
  {
   "cell_type": "code",
   "execution_count": 26,
   "metadata": {},
   "outputs": [
    {
     "name": "stdout",
     "output_type": "stream",
     "text": [
      "157/157 [==============================] - 10s 61ms/step - loss: 2.3026 - categorical_accuracy: 0.1000\n",
      "157/157 [==============================] - 10s 61ms/step - loss: 0.6210 - categorical_accuracy: 0.8026\n",
      "157/157 [==============================] - 11s 70ms/step - loss: 0.6353 - categorical_accuracy: 0.8051\n",
      "157/157 [==============================] - 15s 95ms/step - loss: 0.4374 - categorical_accuracy: 0.8599\n"
     ]
    }
   ],
   "source": [
    "model_1 = keras.models.load_model('lab5-logs/models/run-1-best-model.h5')\n",
    "model_2 = keras.models.load_model('lab5-logs/models/run-2-best-model.h5')\n",
    "model_3 = keras.models.load_model('lab5-logs/models/run-3-best-model.h5')\n",
    "model_4 = keras.models.load_model('lab5-logs/models/run-4-best-model.h5')\n",
    "loss_1, acc_1 = model_1.evaluate(test_data)\n",
    "loss_2, acc_2 = model_2.evaluate(test_data)\n",
    "loss_3, acc_3 = model_3.evaluate(test_data)\n",
    "loss_4, acc_4 = model_4.evaluate(test_data)"
   ]
  },
  {
   "cell_type": "code",
   "execution_count": 27,
   "metadata": {},
   "outputs": [
    {
     "data": {
      "text/html": [
       "<div>\n",
       "<style scoped>\n",
       "    .dataframe tbody tr th:only-of-type {\n",
       "        vertical-align: middle;\n",
       "    }\n",
       "\n",
       "    .dataframe tbody tr th {\n",
       "        vertical-align: top;\n",
       "    }\n",
       "\n",
       "    .dataframe thead th {\n",
       "        text-align: right;\n",
       "    }\n",
       "</style>\n",
       "<table border=\"1\" class=\"dataframe\">\n",
       "  <thead>\n",
       "    <tr style=\"text-align: right;\">\n",
       "      <th></th>\n",
       "      <th>Loss</th>\n",
       "      <th>Accuracy</th>\n",
       "    </tr>\n",
       "  </thead>\n",
       "  <tbody>\n",
       "    <tr>\n",
       "      <th>0</th>\n",
       "      <td>2.302632</td>\n",
       "      <td>0.1000</td>\n",
       "    </tr>\n",
       "    <tr>\n",
       "      <th>1</th>\n",
       "      <td>0.620969</td>\n",
       "      <td>0.8026</td>\n",
       "    </tr>\n",
       "    <tr>\n",
       "      <th>2</th>\n",
       "      <td>0.635294</td>\n",
       "      <td>0.8051</td>\n",
       "    </tr>\n",
       "    <tr>\n",
       "      <th>3</th>\n",
       "      <td>0.437364</td>\n",
       "      <td>0.8599</td>\n",
       "    </tr>\n",
       "  </tbody>\n",
       "</table>\n",
       "</div>"
      ],
      "text/plain": [
       "       Loss  Accuracy\n",
       "0  2.302632    0.1000\n",
       "1  0.620969    0.8026\n",
       "2  0.635294    0.8051\n",
       "3  0.437364    0.8599"
      ]
     },
     "execution_count": 27,
     "metadata": {},
     "output_type": "execute_result"
    }
   ],
   "source": [
    "loss = [loss_1, loss_2, loss_3, loss_4]  \n",
    "acc = [acc_1, acc_2, acc_3, acc_4]\n",
    "\n",
    "dict = {\"Loss\": loss,  \n",
    "        \"Accuracy\": acc}\n",
    "\n",
    "df = pd.DataFrame(dict)\n",
    "df"
   ]
  }
 ],
 "metadata": {
  "kernelspec": {
   "display_name": "Python 3",
   "language": "python",
   "name": "python3"
  },
  "language_info": {
   "codemirror_mode": {
    "name": "ipython",
    "version": 3
   },
   "file_extension": ".py",
   "mimetype": "text/x-python",
   "name": "python",
   "nbconvert_exporter": "python",
   "pygments_lexer": "ipython3",
   "version": "3.9.13 (tags/v3.9.13:6de2ca5, May 17 2022, 16:36:42) [MSC v.1929 64 bit (AMD64)]"
  },
  "vscode": {
   "interpreter": {
    "hash": "59e28edaca8d48efe3ba8b1a9cfaf5b90f86910db2db3c89dd8dac6b042bae31"
   }
  }
 },
 "nbformat": 4,
 "nbformat_minor": 2
}
